{
 "cells": [
  {
   "cell_type": "markdown",
   "metadata": {},
   "source": [
    "#  Курсовая работа по курсу Python для Data Science"
   ]
  },
  {
   "cell_type": "markdown",
   "metadata": {
    "id": "4mw5sXwjkd5H"
   },
   "source": [
    "https://www.kaggle.com/c/real-estate-price-prediction-moscow/data"
   ]
  },
  {
   "cell_type": "markdown",
   "metadata": {
    "id": "eb7LJAk_f0Lw",
    "papermill": {
     "duration": 0.059009,
     "end_time": "2020-12-23T14:55:38.757423",
     "exception": false,
     "start_time": "2020-12-23T14:55:38.698414",
     "status": "completed"
    },
    "tags": []
   },
   "source": [
    "* [Загрузка данных](#load)\n",
    "* [1. EDA](#eda)\n",
    "* [2. Обработка выбросов](#outlier)\n",
    "* [3. Обработка пропусков](#nan)\n",
    "* [4. Построение новых признаков](#feature)\n",
    "* [5. Отбор признаков](#feature_selection)\n",
    "* [6. Разбиение на train и test](#split)\n",
    "* [7. Построение модели](#modeling)\n",
    "* [8. Прогнозирование на тестовом датасете](#prediction)"
   ]
  },
  {
   "cell_type": "markdown",
   "metadata": {},
   "source": [
    "Задание: По данным из train.csv, построить модель для предсказания цен на недвижимость (квартиры). \n",
    "По полученной модели предсказать цены для квартир из файла test.csv.\n",
    "\n",
    "Целевая переменная: Price\n",
    "\n",
    "Основная метрика: R2 - коэффициент детерминации (sklearn.metrics.r2_score)\n",
    "\n",
    "Дополнительная метрика: MSE - средняя квадратичная ошибка (sklearn.metrics.mean_squared_error)"
   ]
  },
  {
   "cell_type": "markdown",
   "metadata": {
    "id": "nipEHKq2f0Ly",
    "papermill": {
     "duration": 0.0589,
     "end_time": "2020-12-23T14:55:38.876837",
     "exception": false,
     "start_time": "2020-12-23T14:55:38.817937",
     "status": "completed"
    },
    "tags": []
   },
   "source": [
    "**Подключение библиотек и скриптов**"
   ]
  },
  {
   "cell_type": "code",
   "execution_count": 1,
   "metadata": {
    "execution": {
     "iopub.execute_input": "2020-12-23T14:55:39.003058Z",
     "iopub.status.busy": "2020-12-23T14:55:39.002240Z",
     "iopub.status.idle": "2020-12-23T14:55:39.008933Z",
     "shell.execute_reply": "2020-12-23T14:55:39.007598Z"
    },
    "id": "f6gZpSRzf0Ly",
    "papermill": {
     "duration": 0.072876,
     "end_time": "2020-12-23T14:55:39.009105",
     "exception": false,
     "start_time": "2020-12-23T14:55:38.936229",
     "status": "completed"
    },
    "tags": []
   },
   "outputs": [],
   "source": [
    "# This Python 3 environment comes with many helpful analytics libraries installed\n",
    "# It is defined by the kaggle/python Docker image: https://github.com/kaggle/docker-python\n",
    "# For example, here's several helpful packages to load\n",
    "\n",
    "import numpy as np # linear algebra\n",
    "import pandas as pd # data processing, CSV file I/O (e.g. pd.read_csv)\n",
    "\n",
    "# Input data files are available in the read-only \"../input/\" directory\n",
    "# For example, running this (by clicking run or pressing Shift+Enter) will list all files under the input directory\n",
    "\n",
    "import os\n",
    "for dirname, _, filenames in os.walk('/kaggle/input'):\n",
    "    for filename in filenames:\n",
    "        print(os.path.join(dirname, filename))\n",
    "\n",
    "# You can write up to 5GB to the current directory (/kaggle/working/) that gets preserved as output when you create a version using \"Save & Run All\" \n",
    "# You can also write temporary files to /kaggle/temp/, but they won't be saved outside of the current session"
   ]
  },
  {
   "cell_type": "code",
   "execution_count": 2,
   "metadata": {
    "execution": {
     "iopub.execute_input": "2020-12-23T14:55:39.140768Z",
     "iopub.status.busy": "2020-12-23T14:55:39.138928Z",
     "iopub.status.idle": "2020-12-23T14:55:40.578159Z",
     "shell.execute_reply": "2020-12-23T14:55:40.577526Z"
    },
    "id": "n7P5NKRZf0L2",
    "papermill": {
     "duration": 1.508021,
     "end_time": "2020-12-23T14:55:40.578290",
     "exception": false,
     "start_time": "2020-12-23T14:55:39.070269",
     "status": "completed"
    },
    "tags": []
   },
   "outputs": [],
   "source": [
    "import numpy as np\n",
    "import pandas as pd\n",
    "import random\n",
    "\n",
    "from sklearn.model_selection import train_test_split, cross_val_score\n",
    "from sklearn.preprocessing import StandardScaler, RobustScaler\n",
    "from sklearn.ensemble import RandomForestRegressor\n",
    "from sklearn.metrics import r2_score as r2\n",
    "from sklearn.metrics import mean_squared_error\n",
    "from sklearn.model_selection import KFold, GridSearchCV\n",
    "from xgboost import XGBRegressor\n",
    "from lightgbm import LGBMRegressor\n",
    "from catboost import CatBoostRegressor\n",
    "from datetime import datetime\n",
    "\n",
    "import matplotlib\n",
    "import matplotlib.pyplot as plt\n",
    "import seaborn as sns\n",
    "%matplotlib inline"
   ]
  },
  {
   "cell_type": "code",
   "execution_count": 3,
   "metadata": {
    "execution": {
     "iopub.execute_input": "2020-12-23T14:55:40.706827Z",
     "iopub.status.busy": "2020-12-23T14:55:40.705826Z",
     "iopub.status.idle": "2020-12-23T14:55:40.709173Z",
     "shell.execute_reply": "2020-12-23T14:55:40.708665Z"
    },
    "id": "ZGG6jhtFf0L3",
    "papermill": {
     "duration": 0.068613,
     "end_time": "2020-12-23T14:55:40.709287",
     "exception": false,
     "start_time": "2020-12-23T14:55:40.640674",
     "status": "completed"
    },
    "tags": []
   },
   "outputs": [],
   "source": [
    "import warnings\n",
    "warnings.filterwarnings('ignore')"
   ]
  },
  {
   "cell_type": "code",
   "execution_count": 4,
   "metadata": {
    "execution": {
     "iopub.execute_input": "2020-12-23T14:55:40.835459Z",
     "iopub.status.busy": "2020-12-23T14:55:40.834391Z",
     "iopub.status.idle": "2020-12-23T14:55:40.837557Z",
     "shell.execute_reply": "2020-12-23T14:55:40.836931Z"
    },
    "id": "vEa5K4Ynf0L4",
    "papermill": {
     "duration": 0.06848,
     "end_time": "2020-12-23T14:55:40.837677",
     "exception": false,
     "start_time": "2020-12-23T14:55:40.769197",
     "status": "completed"
    },
    "tags": []
   },
   "outputs": [],
   "source": [
    "matplotlib.rcParams.update({'font.size': 14})"
   ]
  },
  {
   "cell_type": "code",
   "execution_count": 5,
   "metadata": {
    "execution": {
     "iopub.execute_input": "2020-12-23T14:55:40.968813Z",
     "iopub.status.busy": "2020-12-23T14:55:40.968151Z",
     "iopub.status.idle": "2020-12-23T14:55:40.971399Z",
     "shell.execute_reply": "2020-12-23T14:55:40.970839Z"
    },
    "id": "4Nz2G1Bmf0L5",
    "papermill": {
     "duration": 0.073165,
     "end_time": "2020-12-23T14:55:40.971509",
     "exception": false,
     "start_time": "2020-12-23T14:55:40.898344",
     "status": "completed"
    },
    "tags": []
   },
   "outputs": [],
   "source": [
    "def evaluate_preds(train_true_values, train_pred_values, test_true_values, test_pred_values):\n",
    "    print(\"Train R2:\\t\" + str(round(r2(train_true_values, train_pred_values), 3)))\n",
    "    print(\"Test R2:\\t\" + str(round(r2(test_true_values, test_pred_values), 3)))\n",
    "    \n",
    "    plt.figure(figsize=(18,10))\n",
    "    \n",
    "    plt.subplot(121)\n",
    "    sns.scatterplot(x=train_pred_values, y=train_true_values)\n",
    "    plt.xlabel('Predicted values')\n",
    "    plt.ylabel('True values')\n",
    "    plt.title('Train sample prediction')\n",
    "    \n",
    "    plt.subplot(122)\n",
    "    sns.scatterplot(x=test_pred_values, y=test_true_values)\n",
    "    plt.xlabel('Predicted values')\n",
    "    plt.ylabel('True values')\n",
    "    plt.title('Test sample prediction')\n",
    "\n",
    "    plt.show()"
   ]
  },
  {
   "cell_type": "markdown",
   "metadata": {
    "id": "4r1FBBkOf0L6",
    "papermill": {
     "duration": 0.059956,
     "end_time": "2020-12-23T14:55:41.091943",
     "exception": false,
     "start_time": "2020-12-23T14:55:41.031987",
     "status": "completed"
    },
    "tags": []
   },
   "source": [
    "**Пути к директориям и файлам**"
   ]
  },
  {
   "cell_type": "code",
   "execution_count": 6,
   "metadata": {
    "execution": {
     "iopub.execute_input": "2020-12-23T14:55:41.219167Z",
     "iopub.status.busy": "2020-12-23T14:55:41.218172Z",
     "iopub.status.idle": "2020-12-23T14:55:41.221803Z",
     "shell.execute_reply": "2020-12-23T14:55:41.221255Z"
    },
    "id": "4ZKhEQYff0L6",
    "papermill": {
     "duration": 0.069146,
     "end_time": "2020-12-23T14:55:41.221928",
     "exception": false,
     "start_time": "2020-12-23T14:55:41.152782",
     "status": "completed"
    },
    "tags": []
   },
   "outputs": [],
   "source": [
    "TRAIN_DATASET_PATH = 'train.csv'\n",
    "TEST_DATASET_PATH = 'test.csv'"
   ]
  },
  {
   "cell_type": "markdown",
   "metadata": {
    "id": "F372wSemf0L8",
    "papermill": {
     "duration": 0.060411,
     "end_time": "2020-12-23T14:55:41.342458",
     "exception": false,
     "start_time": "2020-12-23T14:55:41.282047",
     "status": "completed"
    },
    "tags": []
   },
   "source": [
    "### Загрузка данных <a class='anchor' id='load'>"
   ]
  },
  {
   "cell_type": "markdown",
   "metadata": {
    "id": "yZeNoKfxf0L8",
    "papermill": {
     "duration": 0.060747,
     "end_time": "2020-12-23T14:55:41.463449",
     "exception": false,
     "start_time": "2020-12-23T14:55:41.402702",
     "status": "completed"
    },
    "tags": []
   },
   "source": [
    "**Описание датасета**\n",
    "\n",
    "* **Id** - идентификационный номер квартиры\n",
    "* **DistrictId** - идентификационный номер района\n",
    "* **Rooms** - количество комнат\n",
    "* **Square** - площадь\n",
    "* **LifeSquare** - жилая площадь\n",
    "* **KitchenSquare** - площадь кухни\n",
    "* **Floor** - этаж\n",
    "* **HouseFloor** - количество этажей в доме\n",
    "* **HouseYear** - год постройки дома\n",
    "* **Ecology_1, Ecology_2, Ecology_3** - экологические показатели местности\n",
    "* **Social_1, Social_2, Social_3** - социальные показатели местности\n",
    "* **Healthcare_1, Helthcare_2** - показатели местности, связанные с охраной здоровья\n",
    "* **Shops_1, Shops_2** - показатели, связанные с наличием магазинов, торговых центров\n",
    "* **Price** - цена квартиры"
   ]
  },
  {
   "cell_type": "code",
   "execution_count": 7,
   "metadata": {
    "colab": {
     "base_uri": "https://localhost:8080/",
     "height": 270
    },
    "execution": {
     "iopub.execute_input": "2020-12-23T14:55:41.591051Z",
     "iopub.status.busy": "2020-12-23T14:55:41.590339Z",
     "iopub.status.idle": "2020-12-23T14:55:41.693604Z",
     "shell.execute_reply": "2020-12-23T14:55:41.694189Z"
    },
    "id": "9TEHu7GHf0L9",
    "outputId": "ca1200cd-d310-428e-c975-76cba5684f65",
    "papermill": {
     "duration": 0.170811,
     "end_time": "2020-12-23T14:55:41.694338",
     "exception": false,
     "start_time": "2020-12-23T14:55:41.523527",
     "status": "completed"
    },
    "tags": []
   },
   "outputs": [
    {
     "data": {
      "text/html": [
       "<div>\n",
       "<style scoped>\n",
       "    .dataframe tbody tr th:only-of-type {\n",
       "        vertical-align: middle;\n",
       "    }\n",
       "\n",
       "    .dataframe tbody tr th {\n",
       "        vertical-align: top;\n",
       "    }\n",
       "\n",
       "    .dataframe thead th {\n",
       "        text-align: right;\n",
       "    }\n",
       "</style>\n",
       "<table border=\"1\" class=\"dataframe\">\n",
       "  <thead>\n",
       "    <tr style=\"text-align: right;\">\n",
       "      <th></th>\n",
       "      <th>Id</th>\n",
       "      <th>DistrictId</th>\n",
       "      <th>Rooms</th>\n",
       "      <th>Square</th>\n",
       "      <th>LifeSquare</th>\n",
       "      <th>KitchenSquare</th>\n",
       "      <th>Floor</th>\n",
       "      <th>HouseFloor</th>\n",
       "      <th>HouseYear</th>\n",
       "      <th>Ecology_1</th>\n",
       "      <th>Ecology_2</th>\n",
       "      <th>Ecology_3</th>\n",
       "      <th>Social_1</th>\n",
       "      <th>Social_2</th>\n",
       "      <th>Social_3</th>\n",
       "      <th>Healthcare_1</th>\n",
       "      <th>Helthcare_2</th>\n",
       "      <th>Shops_1</th>\n",
       "      <th>Shops_2</th>\n",
       "      <th>Price</th>\n",
       "    </tr>\n",
       "  </thead>\n",
       "  <tbody>\n",
       "    <tr>\n",
       "      <th>9995</th>\n",
       "      <td>1260</td>\n",
       "      <td>61</td>\n",
       "      <td>2.0</td>\n",
       "      <td>49.090728</td>\n",
       "      <td>33.272626</td>\n",
       "      <td>6.0</td>\n",
       "      <td>3</td>\n",
       "      <td>12.0</td>\n",
       "      <td>1981</td>\n",
       "      <td>0.300323</td>\n",
       "      <td>B</td>\n",
       "      <td>B</td>\n",
       "      <td>52</td>\n",
       "      <td>10311</td>\n",
       "      <td>6</td>\n",
       "      <td>NaN</td>\n",
       "      <td>1</td>\n",
       "      <td>9</td>\n",
       "      <td>B</td>\n",
       "      <td>119367.455796</td>\n",
       "    </tr>\n",
       "    <tr>\n",
       "      <th>9996</th>\n",
       "      <td>16265</td>\n",
       "      <td>27</td>\n",
       "      <td>2.0</td>\n",
       "      <td>64.307684</td>\n",
       "      <td>37.038420</td>\n",
       "      <td>9.0</td>\n",
       "      <td>13</td>\n",
       "      <td>0.0</td>\n",
       "      <td>1977</td>\n",
       "      <td>0.072158</td>\n",
       "      <td>B</td>\n",
       "      <td>B</td>\n",
       "      <td>2</td>\n",
       "      <td>629</td>\n",
       "      <td>1</td>\n",
       "      <td>NaN</td>\n",
       "      <td>0</td>\n",
       "      <td>0</td>\n",
       "      <td>A</td>\n",
       "      <td>199715.148807</td>\n",
       "    </tr>\n",
       "    <tr>\n",
       "      <th>9997</th>\n",
       "      <td>2795</td>\n",
       "      <td>178</td>\n",
       "      <td>1.0</td>\n",
       "      <td>29.648057</td>\n",
       "      <td>16.555363</td>\n",
       "      <td>5.0</td>\n",
       "      <td>3</td>\n",
       "      <td>5.0</td>\n",
       "      <td>1958</td>\n",
       "      <td>0.460556</td>\n",
       "      <td>B</td>\n",
       "      <td>B</td>\n",
       "      <td>20</td>\n",
       "      <td>4386</td>\n",
       "      <td>14</td>\n",
       "      <td>NaN</td>\n",
       "      <td>1</td>\n",
       "      <td>5</td>\n",
       "      <td>B</td>\n",
       "      <td>165953.912580</td>\n",
       "    </tr>\n",
       "    <tr>\n",
       "      <th>9998</th>\n",
       "      <td>14561</td>\n",
       "      <td>21</td>\n",
       "      <td>1.0</td>\n",
       "      <td>32.330292</td>\n",
       "      <td>22.326870</td>\n",
       "      <td>5.0</td>\n",
       "      <td>3</td>\n",
       "      <td>9.0</td>\n",
       "      <td>1969</td>\n",
       "      <td>0.194489</td>\n",
       "      <td>B</td>\n",
       "      <td>B</td>\n",
       "      <td>47</td>\n",
       "      <td>8004</td>\n",
       "      <td>3</td>\n",
       "      <td>125.0</td>\n",
       "      <td>3</td>\n",
       "      <td>5</td>\n",
       "      <td>B</td>\n",
       "      <td>171842.411855</td>\n",
       "    </tr>\n",
       "    <tr>\n",
       "      <th>9999</th>\n",
       "      <td>7202</td>\n",
       "      <td>94</td>\n",
       "      <td>1.0</td>\n",
       "      <td>35.815476</td>\n",
       "      <td>22.301367</td>\n",
       "      <td>6.0</td>\n",
       "      <td>9</td>\n",
       "      <td>9.0</td>\n",
       "      <td>1975</td>\n",
       "      <td>0.127376</td>\n",
       "      <td>B</td>\n",
       "      <td>B</td>\n",
       "      <td>43</td>\n",
       "      <td>8429</td>\n",
       "      <td>3</td>\n",
       "      <td>NaN</td>\n",
       "      <td>3</td>\n",
       "      <td>9</td>\n",
       "      <td>B</td>\n",
       "      <td>177685.627486</td>\n",
       "    </tr>\n",
       "  </tbody>\n",
       "</table>\n",
       "</div>"
      ],
      "text/plain": [
       "         Id  DistrictId  Rooms     Square  LifeSquare  KitchenSquare  Floor  \\\n",
       "9995   1260          61    2.0  49.090728   33.272626            6.0      3   \n",
       "9996  16265          27    2.0  64.307684   37.038420            9.0     13   \n",
       "9997   2795         178    1.0  29.648057   16.555363            5.0      3   \n",
       "9998  14561          21    1.0  32.330292   22.326870            5.0      3   \n",
       "9999   7202          94    1.0  35.815476   22.301367            6.0      9   \n",
       "\n",
       "      HouseFloor  HouseYear  Ecology_1 Ecology_2 Ecology_3  Social_1  \\\n",
       "9995        12.0       1981   0.300323         B         B        52   \n",
       "9996         0.0       1977   0.072158         B         B         2   \n",
       "9997         5.0       1958   0.460556         B         B        20   \n",
       "9998         9.0       1969   0.194489         B         B        47   \n",
       "9999         9.0       1975   0.127376         B         B        43   \n",
       "\n",
       "      Social_2  Social_3  Healthcare_1  Helthcare_2  Shops_1 Shops_2  \\\n",
       "9995     10311         6           NaN            1        9       B   \n",
       "9996       629         1           NaN            0        0       A   \n",
       "9997      4386        14           NaN            1        5       B   \n",
       "9998      8004         3         125.0            3        5       B   \n",
       "9999      8429         3           NaN            3        9       B   \n",
       "\n",
       "              Price  \n",
       "9995  119367.455796  \n",
       "9996  199715.148807  \n",
       "9997  165953.912580  \n",
       "9998  171842.411855  \n",
       "9999  177685.627486  "
      ]
     },
     "execution_count": 7,
     "metadata": {},
     "output_type": "execute_result"
    }
   ],
   "source": [
    "train_df = pd.read_csv(TRAIN_DATASET_PATH)\n",
    "train_df.tail()"
   ]
  },
  {
   "cell_type": "code",
   "execution_count": 8,
   "metadata": {
    "colab": {
     "base_uri": "https://localhost:8080/"
    },
    "execution": {
     "iopub.execute_input": "2020-12-23T14:55:41.828076Z",
     "iopub.status.busy": "2020-12-23T14:55:41.827157Z",
     "iopub.status.idle": "2020-12-23T14:55:41.830443Z",
     "shell.execute_reply": "2020-12-23T14:55:41.830944Z"
    },
    "id": "psPvshYff0L9",
    "outputId": "0676afff-7021-4cd0-8803-ce20e649e12d",
    "papermill": {
     "duration": 0.074193,
     "end_time": "2020-12-23T14:55:41.831087",
     "exception": false,
     "start_time": "2020-12-23T14:55:41.756894",
     "status": "completed"
    },
    "tags": []
   },
   "outputs": [
    {
     "data": {
      "text/plain": [
       "Id                 int64\n",
       "DistrictId         int64\n",
       "Rooms            float64\n",
       "Square           float64\n",
       "LifeSquare       float64\n",
       "KitchenSquare    float64\n",
       "Floor              int64\n",
       "HouseFloor       float64\n",
       "HouseYear          int64\n",
       "Ecology_1        float64\n",
       "Ecology_2         object\n",
       "Ecology_3         object\n",
       "Social_1           int64\n",
       "Social_2           int64\n",
       "Social_3           int64\n",
       "Healthcare_1     float64\n",
       "Helthcare_2        int64\n",
       "Shops_1            int64\n",
       "Shops_2           object\n",
       "Price            float64\n",
       "dtype: object"
      ]
     },
     "execution_count": 8,
     "metadata": {},
     "output_type": "execute_result"
    }
   ],
   "source": [
    "train_df.dtypes"
   ]
  },
  {
   "cell_type": "code",
   "execution_count": 9,
   "metadata": {
    "colab": {
     "base_uri": "https://localhost:8080/",
     "height": 270
    },
    "execution": {
     "iopub.execute_input": "2020-12-23T14:55:41.958769Z",
     "iopub.status.busy": "2020-12-23T14:55:41.958134Z",
     "iopub.status.idle": "2020-12-23T14:55:42.003501Z",
     "shell.execute_reply": "2020-12-23T14:55:42.003992Z"
    },
    "id": "gLObqMSFf0L-",
    "outputId": "75edae76-130f-41ce-c296-51b1f03b8c31",
    "papermill": {
     "duration": 0.110846,
     "end_time": "2020-12-23T14:55:42.004144",
     "exception": false,
     "start_time": "2020-12-23T14:55:41.893298",
     "status": "completed"
    },
    "tags": []
   },
   "outputs": [
    {
     "data": {
      "text/html": [
       "<div>\n",
       "<style scoped>\n",
       "    .dataframe tbody tr th:only-of-type {\n",
       "        vertical-align: middle;\n",
       "    }\n",
       "\n",
       "    .dataframe tbody tr th {\n",
       "        vertical-align: top;\n",
       "    }\n",
       "\n",
       "    .dataframe thead th {\n",
       "        text-align: right;\n",
       "    }\n",
       "</style>\n",
       "<table border=\"1\" class=\"dataframe\">\n",
       "  <thead>\n",
       "    <tr style=\"text-align: right;\">\n",
       "      <th></th>\n",
       "      <th>Id</th>\n",
       "      <th>DistrictId</th>\n",
       "      <th>Rooms</th>\n",
       "      <th>Square</th>\n",
       "      <th>LifeSquare</th>\n",
       "      <th>KitchenSquare</th>\n",
       "      <th>Floor</th>\n",
       "      <th>HouseFloor</th>\n",
       "      <th>HouseYear</th>\n",
       "      <th>Ecology_1</th>\n",
       "      <th>Ecology_2</th>\n",
       "      <th>Ecology_3</th>\n",
       "      <th>Social_1</th>\n",
       "      <th>Social_2</th>\n",
       "      <th>Social_3</th>\n",
       "      <th>Healthcare_1</th>\n",
       "      <th>Helthcare_2</th>\n",
       "      <th>Shops_1</th>\n",
       "      <th>Shops_2</th>\n",
       "    </tr>\n",
       "  </thead>\n",
       "  <tbody>\n",
       "    <tr>\n",
       "      <th>4995</th>\n",
       "      <td>10379</td>\n",
       "      <td>29</td>\n",
       "      <td>2.0</td>\n",
       "      <td>43.177521</td>\n",
       "      <td>30.339945</td>\n",
       "      <td>5.0</td>\n",
       "      <td>6</td>\n",
       "      <td>5.0</td>\n",
       "      <td>1962</td>\n",
       "      <td>0.069660</td>\n",
       "      <td>B</td>\n",
       "      <td>B</td>\n",
       "      <td>31</td>\n",
       "      <td>6119</td>\n",
       "      <td>4</td>\n",
       "      <td>NaN</td>\n",
       "      <td>1</td>\n",
       "      <td>2</td>\n",
       "      <td>B</td>\n",
       "    </tr>\n",
       "    <tr>\n",
       "      <th>4996</th>\n",
       "      <td>16138</td>\n",
       "      <td>38</td>\n",
       "      <td>3.0</td>\n",
       "      <td>93.698122</td>\n",
       "      <td>94.521465</td>\n",
       "      <td>10.0</td>\n",
       "      <td>21</td>\n",
       "      <td>27.0</td>\n",
       "      <td>2018</td>\n",
       "      <td>0.060753</td>\n",
       "      <td>B</td>\n",
       "      <td>B</td>\n",
       "      <td>15</td>\n",
       "      <td>2787</td>\n",
       "      <td>2</td>\n",
       "      <td>520.0</td>\n",
       "      <td>0</td>\n",
       "      <td>7</td>\n",
       "      <td>B</td>\n",
       "    </tr>\n",
       "    <tr>\n",
       "      <th>4997</th>\n",
       "      <td>3912</td>\n",
       "      <td>101</td>\n",
       "      <td>1.0</td>\n",
       "      <td>33.656723</td>\n",
       "      <td>19.003259</td>\n",
       "      <td>5.0</td>\n",
       "      <td>2</td>\n",
       "      <td>5.0</td>\n",
       "      <td>1966</td>\n",
       "      <td>0.038693</td>\n",
       "      <td>B</td>\n",
       "      <td>B</td>\n",
       "      <td>28</td>\n",
       "      <td>6533</td>\n",
       "      <td>1</td>\n",
       "      <td>1015.0</td>\n",
       "      <td>2</td>\n",
       "      <td>5</td>\n",
       "      <td>B</td>\n",
       "    </tr>\n",
       "    <tr>\n",
       "      <th>4998</th>\n",
       "      <td>5722</td>\n",
       "      <td>10</td>\n",
       "      <td>1.0</td>\n",
       "      <td>38.635155</td>\n",
       "      <td>20.976257</td>\n",
       "      <td>9.0</td>\n",
       "      <td>8</td>\n",
       "      <td>14.0</td>\n",
       "      <td>1970</td>\n",
       "      <td>0.089040</td>\n",
       "      <td>B</td>\n",
       "      <td>B</td>\n",
       "      <td>33</td>\n",
       "      <td>7976</td>\n",
       "      <td>5</td>\n",
       "      <td>NaN</td>\n",
       "      <td>0</td>\n",
       "      <td>11</td>\n",
       "      <td>B</td>\n",
       "    </tr>\n",
       "    <tr>\n",
       "      <th>4999</th>\n",
       "      <td>11004</td>\n",
       "      <td>21</td>\n",
       "      <td>2.0</td>\n",
       "      <td>67.122742</td>\n",
       "      <td>33.944344</td>\n",
       "      <td>13.0</td>\n",
       "      <td>9</td>\n",
       "      <td>17.0</td>\n",
       "      <td>2009</td>\n",
       "      <td>0.194489</td>\n",
       "      <td>B</td>\n",
       "      <td>B</td>\n",
       "      <td>47</td>\n",
       "      <td>8004</td>\n",
       "      <td>3</td>\n",
       "      <td>125.0</td>\n",
       "      <td>3</td>\n",
       "      <td>5</td>\n",
       "      <td>B</td>\n",
       "    </tr>\n",
       "  </tbody>\n",
       "</table>\n",
       "</div>"
      ],
      "text/plain": [
       "         Id  DistrictId  Rooms     Square  LifeSquare  KitchenSquare  Floor  \\\n",
       "4995  10379          29    2.0  43.177521   30.339945            5.0      6   \n",
       "4996  16138          38    3.0  93.698122   94.521465           10.0     21   \n",
       "4997   3912         101    1.0  33.656723   19.003259            5.0      2   \n",
       "4998   5722          10    1.0  38.635155   20.976257            9.0      8   \n",
       "4999  11004          21    2.0  67.122742   33.944344           13.0      9   \n",
       "\n",
       "      HouseFloor  HouseYear  Ecology_1 Ecology_2 Ecology_3  Social_1  \\\n",
       "4995         5.0       1962   0.069660         B         B        31   \n",
       "4996        27.0       2018   0.060753         B         B        15   \n",
       "4997         5.0       1966   0.038693         B         B        28   \n",
       "4998        14.0       1970   0.089040         B         B        33   \n",
       "4999        17.0       2009   0.194489         B         B        47   \n",
       "\n",
       "      Social_2  Social_3  Healthcare_1  Helthcare_2  Shops_1 Shops_2  \n",
       "4995      6119         4           NaN            1        2       B  \n",
       "4996      2787         2         520.0            0        7       B  \n",
       "4997      6533         1        1015.0            2        5       B  \n",
       "4998      7976         5           NaN            0       11       B  \n",
       "4999      8004         3         125.0            3        5       B  "
      ]
     },
     "execution_count": 9,
     "metadata": {},
     "output_type": "execute_result"
    }
   ],
   "source": [
    "test_df = pd.read_csv(TEST_DATASET_PATH)\n",
    "test_df.tail()"
   ]
  },
  {
   "cell_type": "code",
   "execution_count": 10,
   "metadata": {
    "colab": {
     "base_uri": "https://localhost:8080/"
    },
    "execution": {
     "iopub.execute_input": "2020-12-23T14:55:42.132681Z",
     "iopub.status.busy": "2020-12-23T14:55:42.132037Z",
     "iopub.status.idle": "2020-12-23T14:55:42.138809Z",
     "shell.execute_reply": "2020-12-23T14:55:42.138317Z"
    },
    "id": "MDc-icYdf0L-",
    "outputId": "3c72e28d-9210-4f12-9171-72e4e80f8aaf",
    "papermill": {
     "duration": 0.072207,
     "end_time": "2020-12-23T14:55:42.138948",
     "exception": false,
     "start_time": "2020-12-23T14:55:42.066741",
     "status": "completed"
    },
    "tags": []
   },
   "outputs": [
    {
     "name": "stdout",
     "output_type": "stream",
     "text": [
      "Строк в трейне: 10000\n",
      "Строк в тесте 5000\n"
     ]
    }
   ],
   "source": [
    "print('Строк в трейне:', train_df.shape[0])\n",
    "print('Строк в тесте', test_df.shape[0])"
   ]
  },
  {
   "cell_type": "code",
   "execution_count": 11,
   "metadata": {
    "colab": {
     "base_uri": "https://localhost:8080/"
    },
    "execution": {
     "iopub.execute_input": "2020-12-23T14:55:42.270631Z",
     "iopub.status.busy": "2020-12-23T14:55:42.269635Z",
     "iopub.status.idle": "2020-12-23T14:55:42.276483Z",
     "shell.execute_reply": "2020-12-23T14:55:42.276975Z"
    },
    "id": "IZPf6AKgf0L_",
    "outputId": "93a8d72d-a7dc-437d-9aff-dfb050024aa8",
    "papermill": {
     "duration": 0.074561,
     "end_time": "2020-12-23T14:55:42.277128",
     "exception": false,
     "start_time": "2020-12-23T14:55:42.202567",
     "status": "completed"
    },
    "tags": []
   },
   "outputs": [
    {
     "data": {
      "text/plain": [
       "True"
      ]
     },
     "execution_count": 11,
     "metadata": {},
     "output_type": "execute_result"
    }
   ],
   "source": [
    "train_df.shape[1] - 1 == test_df.shape[1]"
   ]
  },
  {
   "cell_type": "markdown",
   "metadata": {
    "id": "Mfu4rNlPf0L_",
    "papermill": {
     "duration": 0.064011,
     "end_time": "2020-12-23T14:55:42.405002",
     "exception": false,
     "start_time": "2020-12-23T14:55:42.340991",
     "status": "completed"
    },
    "tags": []
   },
   "source": [
    "### Приведение типов"
   ]
  },
  {
   "cell_type": "code",
   "execution_count": 12,
   "metadata": {
    "colab": {
     "base_uri": "https://localhost:8080/"
    },
    "execution": {
     "iopub.execute_input": "2020-12-23T14:55:42.540045Z",
     "iopub.status.busy": "2020-12-23T14:55:42.539158Z",
     "iopub.status.idle": "2020-12-23T14:55:42.542559Z",
     "shell.execute_reply": "2020-12-23T14:55:42.543108Z"
    },
    "id": "IJYbtc6ff0L_",
    "outputId": "845d59cd-fc39-4154-ba44-8c226f9fc1b0",
    "papermill": {
     "duration": 0.074903,
     "end_time": "2020-12-23T14:55:42.543244",
     "exception": false,
     "start_time": "2020-12-23T14:55:42.468341",
     "status": "completed"
    },
    "tags": []
   },
   "outputs": [
    {
     "data": {
      "text/plain": [
       "Id                 int64\n",
       "DistrictId         int64\n",
       "Rooms            float64\n",
       "Square           float64\n",
       "LifeSquare       float64\n",
       "KitchenSquare    float64\n",
       "Floor              int64\n",
       "HouseFloor       float64\n",
       "HouseYear          int64\n",
       "Ecology_1        float64\n",
       "Ecology_2         object\n",
       "Ecology_3         object\n",
       "Social_1           int64\n",
       "Social_2           int64\n",
       "Social_3           int64\n",
       "Healthcare_1     float64\n",
       "Helthcare_2        int64\n",
       "Shops_1            int64\n",
       "Shops_2           object\n",
       "Price            float64\n",
       "dtype: object"
      ]
     },
     "execution_count": 12,
     "metadata": {},
     "output_type": "execute_result"
    }
   ],
   "source": [
    "train_df.dtypes"
   ]
  },
  {
   "cell_type": "code",
   "execution_count": 13,
   "metadata": {
    "execution": {
     "iopub.execute_input": "2020-12-23T14:55:42.677037Z",
     "iopub.status.busy": "2020-12-23T14:55:42.676009Z",
     "iopub.status.idle": "2020-12-23T14:55:42.692324Z",
     "shell.execute_reply": "2020-12-23T14:55:42.692807Z"
    },
    "id": "PY3JkzNRf0MA",
    "papermill": {
     "duration": 0.084721,
     "end_time": "2020-12-23T14:55:42.692991",
     "exception": false,
     "start_time": "2020-12-23T14:55:42.608270",
     "status": "completed"
    },
    "tags": []
   },
   "outputs": [],
   "source": [
    "train_df['Id'] = train_df['Id'].astype(str)\n",
    "train_df['DistrictId'] = train_df['DistrictId'].astype(str)"
   ]
  },
  {
   "cell_type": "markdown",
   "metadata": {
    "id": "4dnB4P8Of0MB",
    "papermill": {
     "duration": 0.063772,
     "end_time": "2020-12-23T14:55:42.821273",
     "exception": false,
     "start_time": "2020-12-23T14:55:42.757501",
     "status": "completed"
    },
    "tags": []
   },
   "source": [
    "## 1. EDA  <a class='anchor' id='eda'>\n",
    "- Исправляем  выбросы,\n",
    "- Заполняем Nan\n",
    "- Генерация новых фич"
   ]
  },
  {
   "cell_type": "markdown",
   "metadata": {
    "id": "ZiR5-vr-f0MD",
    "papermill": {
     "duration": 0.063405,
     "end_time": "2020-12-23T14:55:42.949192",
     "exception": false,
     "start_time": "2020-12-23T14:55:42.885787",
     "status": "completed"
    },
    "tags": []
   },
   "source": [
    "**Целевая переменная**"
   ]
  },
  {
   "cell_type": "code",
   "execution_count": 14,
   "metadata": {
    "colab": {
     "base_uri": "https://localhost:8080/",
     "height": 525
    },
    "execution": {
     "iopub.execute_input": "2020-12-23T14:55:43.082406Z",
     "iopub.status.busy": "2020-12-23T14:55:43.081379Z",
     "iopub.status.idle": "2020-12-23T14:55:43.385970Z",
     "shell.execute_reply": "2020-12-23T14:55:43.384972Z"
    },
    "id": "3GBTM08hf0MF",
    "outputId": "7122dcc5-cae8-47de-b452-f2ca2710ead1",
    "papermill": {
     "duration": 0.372552,
     "end_time": "2020-12-23T14:55:43.386093",
     "exception": false,
     "start_time": "2020-12-23T14:55:43.013541",
     "status": "completed"
    },
    "tags": []
   },
   "outputs": [
    {
     "data": {
      "image/png": "[encoded data removed]",
      "text/plain": [
       "<Figure size 1152x576 with 1 Axes>"
      ]
     },
     "metadata": {
      "needs_background": "light"
     },
     "output_type": "display_data"
    }
   ],
   "source": [
    "plt.figure(figsize = (16, 8))\n",
    "\n",
    "train_df['Price'].hist(bins=30)\n",
    "plt.ylabel('Count')\n",
    "plt.xlabel('Price')\n",
    "\n",
    "plt.title('Target distribution')\n",
    "plt.show()"
   ]
  },
  {
   "cell_type": "markdown",
   "metadata": {
    "id": "GSXZrHRYf0MH",
    "papermill": {
     "duration": 0.064331,
     "end_time": "2020-12-23T14:55:43.515488",
     "exception": false,
     "start_time": "2020-12-23T14:55:43.451157",
     "status": "completed"
    },
    "tags": []
   },
   "source": [
    "**Количественные переменные**"
   ]
  },
  {
   "cell_type": "code",
   "execution_count": 15,
   "metadata": {
    "colab": {
     "base_uri": "https://localhost:8080/",
     "height": 364
    },
    "execution": {
     "iopub.execute_input": "2020-12-23T14:55:43.663755Z",
     "iopub.status.busy": "2020-12-23T14:55:43.662980Z",
     "iopub.status.idle": "2020-12-23T14:55:43.819368Z",
     "shell.execute_reply": "2020-12-23T14:55:43.818643Z"
    },
    "id": "562dFRM-f0MJ",
    "outputId": "4d0471bc-6c77-4b2e-d1ef-7da46fe270d4",
    "papermill": {
     "duration": 0.236003,
     "end_time": "2020-12-23T14:55:43.819490",
     "exception": false,
     "start_time": "2020-12-23T14:55:43.583487",
     "status": "completed"
    },
    "tags": []
   },
   "outputs": [
    {
     "data": {
      "text/html": [
       "<div>\n",
       "<style scoped>\n",
       "    .dataframe tbody tr th:only-of-type {\n",
       "        vertical-align: middle;\n",
       "    }\n",
       "\n",
       "    .dataframe tbody tr th {\n",
       "        vertical-align: top;\n",
       "    }\n",
       "\n",
       "    .dataframe thead th {\n",
       "        text-align: right;\n",
       "    }\n",
       "</style>\n",
       "<table border=\"1\" class=\"dataframe\">\n",
       "  <thead>\n",
       "    <tr style=\"text-align: right;\">\n",
       "      <th></th>\n",
       "      <th>Rooms</th>\n",
       "      <th>Square</th>\n",
       "      <th>LifeSquare</th>\n",
       "      <th>KitchenSquare</th>\n",
       "      <th>Floor</th>\n",
       "      <th>HouseFloor</th>\n",
       "      <th>HouseYear</th>\n",
       "      <th>Ecology_1</th>\n",
       "      <th>Social_1</th>\n",
       "      <th>Social_2</th>\n",
       "      <th>Social_3</th>\n",
       "      <th>Healthcare_1</th>\n",
       "      <th>Helthcare_2</th>\n",
       "      <th>Shops_1</th>\n",
       "      <th>Price</th>\n",
       "    </tr>\n",
       "  </thead>\n",
       "  <tbody>\n",
       "    <tr>\n",
       "      <th>count</th>\n",
       "      <td>10000.000000</td>\n",
       "      <td>10000.000000</td>\n",
       "      <td>7887.000000</td>\n",
       "      <td>10000.000000</td>\n",
       "      <td>10000.000000</td>\n",
       "      <td>10000.000000</td>\n",
       "      <td>1.000000e+04</td>\n",
       "      <td>10000.000000</td>\n",
       "      <td>10000.000000</td>\n",
       "      <td>10000.000000</td>\n",
       "      <td>10000.000000</td>\n",
       "      <td>5202.000000</td>\n",
       "      <td>10000.000000</td>\n",
       "      <td>10000.000000</td>\n",
       "      <td>10000.000000</td>\n",
       "    </tr>\n",
       "    <tr>\n",
       "      <th>mean</th>\n",
       "      <td>1.890500</td>\n",
       "      <td>56.315775</td>\n",
       "      <td>37.199645</td>\n",
       "      <td>6.273300</td>\n",
       "      <td>8.526700</td>\n",
       "      <td>12.609400</td>\n",
       "      <td>3.990166e+03</td>\n",
       "      <td>0.118858</td>\n",
       "      <td>24.687000</td>\n",
       "      <td>5352.157400</td>\n",
       "      <td>8.039200</td>\n",
       "      <td>1142.904460</td>\n",
       "      <td>1.319500</td>\n",
       "      <td>4.231300</td>\n",
       "      <td>214138.857399</td>\n",
       "    </tr>\n",
       "    <tr>\n",
       "      <th>std</th>\n",
       "      <td>0.839512</td>\n",
       "      <td>21.058732</td>\n",
       "      <td>86.241209</td>\n",
       "      <td>28.560917</td>\n",
       "      <td>5.241148</td>\n",
       "      <td>6.775974</td>\n",
       "      <td>2.005003e+05</td>\n",
       "      <td>0.119025</td>\n",
       "      <td>17.532614</td>\n",
       "      <td>4006.799803</td>\n",
       "      <td>23.831875</td>\n",
       "      <td>1021.517264</td>\n",
       "      <td>1.493601</td>\n",
       "      <td>4.806341</td>\n",
       "      <td>92872.293865</td>\n",
       "    </tr>\n",
       "    <tr>\n",
       "      <th>min</th>\n",
       "      <td>0.000000</td>\n",
       "      <td>1.136859</td>\n",
       "      <td>0.370619</td>\n",
       "      <td>0.000000</td>\n",
       "      <td>1.000000</td>\n",
       "      <td>0.000000</td>\n",
       "      <td>1.910000e+03</td>\n",
       "      <td>0.000000</td>\n",
       "      <td>0.000000</td>\n",
       "      <td>168.000000</td>\n",
       "      <td>0.000000</td>\n",
       "      <td>0.000000</td>\n",
       "      <td>0.000000</td>\n",
       "      <td>0.000000</td>\n",
       "      <td>59174.778028</td>\n",
       "    </tr>\n",
       "    <tr>\n",
       "      <th>25%</th>\n",
       "      <td>1.000000</td>\n",
       "      <td>41.774881</td>\n",
       "      <td>22.769832</td>\n",
       "      <td>1.000000</td>\n",
       "      <td>4.000000</td>\n",
       "      <td>9.000000</td>\n",
       "      <td>1.974000e+03</td>\n",
       "      <td>0.017647</td>\n",
       "      <td>6.000000</td>\n",
       "      <td>1564.000000</td>\n",
       "      <td>0.000000</td>\n",
       "      <td>350.000000</td>\n",
       "      <td>0.000000</td>\n",
       "      <td>1.000000</td>\n",
       "      <td>153872.633942</td>\n",
       "    </tr>\n",
       "    <tr>\n",
       "      <th>50%</th>\n",
       "      <td>2.000000</td>\n",
       "      <td>52.513310</td>\n",
       "      <td>32.781260</td>\n",
       "      <td>6.000000</td>\n",
       "      <td>7.000000</td>\n",
       "      <td>13.000000</td>\n",
       "      <td>1.977000e+03</td>\n",
       "      <td>0.075424</td>\n",
       "      <td>25.000000</td>\n",
       "      <td>5285.000000</td>\n",
       "      <td>2.000000</td>\n",
       "      <td>900.000000</td>\n",
       "      <td>1.000000</td>\n",
       "      <td>3.000000</td>\n",
       "      <td>192269.644879</td>\n",
       "    </tr>\n",
       "    <tr>\n",
       "      <th>75%</th>\n",
       "      <td>2.000000</td>\n",
       "      <td>65.900625</td>\n",
       "      <td>45.128803</td>\n",
       "      <td>9.000000</td>\n",
       "      <td>12.000000</td>\n",
       "      <td>17.000000</td>\n",
       "      <td>2.001000e+03</td>\n",
       "      <td>0.195781</td>\n",
       "      <td>36.000000</td>\n",
       "      <td>7227.000000</td>\n",
       "      <td>5.000000</td>\n",
       "      <td>1548.000000</td>\n",
       "      <td>2.000000</td>\n",
       "      <td>6.000000</td>\n",
       "      <td>249135.462171</td>\n",
       "    </tr>\n",
       "    <tr>\n",
       "      <th>max</th>\n",
       "      <td>19.000000</td>\n",
       "      <td>641.065193</td>\n",
       "      <td>7480.592129</td>\n",
       "      <td>2014.000000</td>\n",
       "      <td>42.000000</td>\n",
       "      <td>117.000000</td>\n",
       "      <td>2.005201e+07</td>\n",
       "      <td>0.521867</td>\n",
       "      <td>74.000000</td>\n",
       "      <td>19083.000000</td>\n",
       "      <td>141.000000</td>\n",
       "      <td>4849.000000</td>\n",
       "      <td>6.000000</td>\n",
       "      <td>23.000000</td>\n",
       "      <td>633233.466570</td>\n",
       "    </tr>\n",
       "  </tbody>\n",
       "</table>\n",
       "</div>"
      ],
      "text/plain": [
       "              Rooms        Square   LifeSquare  KitchenSquare         Floor  \\\n",
       "count  10000.000000  10000.000000  7887.000000   10000.000000  10000.000000   \n",
       "mean       1.890500     56.315775    37.199645       6.273300      8.526700   \n",
       "std        0.839512     21.058732    86.241209      28.560917      5.241148   \n",
       "min        0.000000      1.136859     0.370619       0.000000      1.000000   \n",
       "25%        1.000000     41.774881    22.769832       1.000000      4.000000   \n",
       "50%        2.000000     52.513310    32.781260       6.000000      7.000000   \n",
       "75%        2.000000     65.900625    45.128803       9.000000     12.000000   \n",
       "max       19.000000    641.065193  7480.592129    2014.000000     42.000000   \n",
       "\n",
       "         HouseFloor     HouseYear     Ecology_1      Social_1      Social_2  \\\n",
       "count  10000.000000  1.000000e+04  10000.000000  10000.000000  10000.000000   \n",
       "mean      12.609400  3.990166e+03      0.118858     24.687000   5352.157400   \n",
       "std        6.775974  2.005003e+05      0.119025     17.532614   4006.799803   \n",
       "min        0.000000  1.910000e+03      0.000000      0.000000    168.000000   \n",
       "25%        9.000000  1.974000e+03      0.017647      6.000000   1564.000000   \n",
       "50%       13.000000  1.977000e+03      0.075424     25.000000   5285.000000   \n",
       "75%       17.000000  2.001000e+03      0.195781     36.000000   7227.000000   \n",
       "max      117.000000  2.005201e+07      0.521867     74.000000  19083.000000   \n",
       "\n",
       "           Social_3  Healthcare_1   Helthcare_2       Shops_1          Price  \n",
       "count  10000.000000   5202.000000  10000.000000  10000.000000   10000.000000  \n",
       "mean       8.039200   1142.904460      1.319500      4.231300  214138.857399  \n",
       "std       23.831875   1021.517264      1.493601      4.806341   92872.293865  \n",
       "min        0.000000      0.000000      0.000000      0.000000   59174.778028  \n",
       "25%        0.000000    350.000000      0.000000      1.000000  153872.633942  \n",
       "50%        2.000000    900.000000      1.000000      3.000000  192269.644879  \n",
       "75%        5.000000   1548.000000      2.000000      6.000000  249135.462171  \n",
       "max      141.000000   4849.000000      6.000000     23.000000  633233.466570  "
      ]
     },
     "execution_count": 15,
     "metadata": {},
     "output_type": "execute_result"
    }
   ],
   "source": [
    "train_df.describe()"
   ]
  },
  {
   "cell_type": "markdown",
   "metadata": {
    "id": "gqc-MStbf0MM",
    "papermill": {
     "duration": 0.06496,
     "end_time": "2020-12-23T14:55:43.951084",
     "exception": false,
     "start_time": "2020-12-23T14:55:43.886124",
     "status": "completed"
    },
    "tags": []
   },
   "source": [
    "**Номинативные переменные**"
   ]
  },
  {
   "cell_type": "code",
   "execution_count": 16,
   "metadata": {
    "colab": {
     "base_uri": "https://localhost:8080/"
    },
    "execution": {
     "iopub.execute_input": "2020-12-23T14:55:44.090378Z",
     "iopub.status.busy": "2020-12-23T14:55:44.088660Z",
     "iopub.status.idle": "2020-12-23T14:55:44.094927Z",
     "shell.execute_reply": "2020-12-23T14:55:44.094415Z"
    },
    "id": "BIZU70gkf0MN",
    "outputId": "6254063a-2b2e-45a3-bf50-8e3ec04cdec4",
    "papermill": {
     "duration": 0.078373,
     "end_time": "2020-12-23T14:55:44.095045",
     "exception": false,
     "start_time": "2020-12-23T14:55:44.016672",
     "status": "completed"
    },
    "tags": []
   },
   "outputs": [
    {
     "data": {
      "text/plain": [
       "['Id', 'DistrictId', 'Ecology_2', 'Ecology_3', 'Shops_2']"
      ]
     },
     "execution_count": 16,
     "metadata": {},
     "output_type": "execute_result"
    }
   ],
   "source": [
    "train_df.select_dtypes(include='object').columns.tolist()"
   ]
  },
  {
   "cell_type": "markdown",
   "metadata": {
    "id": "_bh6tN9Qf0MR",
    "papermill": {
     "duration": 0.068303,
     "end_time": "2020-12-23T14:55:44.826613",
     "exception": false,
     "start_time": "2020-12-23T14:55:44.758310",
     "status": "completed"
    },
    "tags": []
   },
   "source": [
    "### 2. Обработка выбросов  <a class='anchor' id='outlier'>\n"
   ]
  },
  {
   "cell_type": "markdown",
   "metadata": {
    "id": "wY4kqDxWf0MS",
    "papermill": {
     "duration": 0.068063,
     "end_time": "2020-12-23T14:55:44.963693",
     "exception": false,
     "start_time": "2020-12-23T14:55:44.895630",
     "status": "completed"
    },
    "tags": []
   },
   "source": [
    "**Rooms**"
   ]
  },
  {
   "cell_type": "code",
   "execution_count": 17,
   "metadata": {
    "colab": {
     "base_uri": "https://localhost:8080/"
    },
    "execution": {
     "iopub.execute_input": "2020-12-23T14:55:45.104715Z",
     "iopub.status.busy": "2020-12-23T14:55:45.104021Z",
     "iopub.status.idle": "2020-12-23T14:55:45.111580Z",
     "shell.execute_reply": "2020-12-23T14:55:45.112224Z"
    },
    "id": "UCTcmrgmf0MS",
    "outputId": "31b7b224-e35f-4e06-b0e4-80b250b2b444",
    "papermill": {
     "duration": 0.08022,
     "end_time": "2020-12-23T14:55:45.112423",
     "exception": false,
     "start_time": "2020-12-23T14:55:45.032203",
     "status": "completed"
    },
    "scrolled": true,
    "tags": []
   },
   "outputs": [
    {
     "data": {
      "text/plain": [
       "2.0     3880\n",
       "1.0     3705\n",
       "3.0     2235\n",
       "4.0      150\n",
       "5.0       18\n",
       "0.0        8\n",
       "10.0       2\n",
       "19.0       1\n",
       "6.0        1\n",
       "Name: Rooms, dtype: int64"
      ]
     },
     "execution_count": 17,
     "metadata": {},
     "output_type": "execute_result"
    }
   ],
   "source": [
    "train_df['Rooms'].value_counts()"
   ]
  },
  {
   "cell_type": "code",
   "execution_count": 18,
   "metadata": {
    "colab": {
     "base_uri": "https://localhost:8080/",
     "height": 270
    },
    "execution": {
     "iopub.execute_input": "2020-12-23T14:55:45.255378Z",
     "iopub.status.busy": "2020-12-23T14:55:45.254713Z",
     "iopub.status.idle": "2020-12-23T14:55:45.307315Z",
     "shell.execute_reply": "2020-12-23T14:55:45.306620Z"
    },
    "id": "BPWhXlKJf0MT",
    "outputId": "c52097a4-062d-422c-cc33-b0e715da8263",
    "papermill": {
     "duration": 0.124917,
     "end_time": "2020-12-23T14:55:45.307437",
     "exception": false,
     "start_time": "2020-12-23T14:55:45.182520",
     "status": "completed"
    },
    "tags": []
   },
   "outputs": [
    {
     "data": {
      "text/html": [
       "<div>\n",
       "<style scoped>\n",
       "    .dataframe tbody tr th:only-of-type {\n",
       "        vertical-align: middle;\n",
       "    }\n",
       "\n",
       "    .dataframe tbody tr th {\n",
       "        vertical-align: top;\n",
       "    }\n",
       "\n",
       "    .dataframe thead th {\n",
       "        text-align: right;\n",
       "    }\n",
       "</style>\n",
       "<table border=\"1\" class=\"dataframe\">\n",
       "  <thead>\n",
       "    <tr style=\"text-align: right;\">\n",
       "      <th></th>\n",
       "      <th>Id</th>\n",
       "      <th>DistrictId</th>\n",
       "      <th>Rooms</th>\n",
       "      <th>Square</th>\n",
       "      <th>LifeSquare</th>\n",
       "      <th>KitchenSquare</th>\n",
       "      <th>Floor</th>\n",
       "      <th>HouseFloor</th>\n",
       "      <th>HouseYear</th>\n",
       "      <th>Ecology_1</th>\n",
       "      <th>...</th>\n",
       "      <th>Ecology_3</th>\n",
       "      <th>Social_1</th>\n",
       "      <th>Social_2</th>\n",
       "      <th>Social_3</th>\n",
       "      <th>Healthcare_1</th>\n",
       "      <th>Helthcare_2</th>\n",
       "      <th>Shops_1</th>\n",
       "      <th>Shops_2</th>\n",
       "      <th>Price</th>\n",
       "      <th>Rooms_outlier</th>\n",
       "    </tr>\n",
       "  </thead>\n",
       "  <tbody>\n",
       "    <tr>\n",
       "      <th>0</th>\n",
       "      <td>11809</td>\n",
       "      <td>27</td>\n",
       "      <td>3.0</td>\n",
       "      <td>115.027311</td>\n",
       "      <td>NaN</td>\n",
       "      <td>10.0</td>\n",
       "      <td>4</td>\n",
       "      <td>10.0</td>\n",
       "      <td>2014</td>\n",
       "      <td>0.075424</td>\n",
       "      <td>...</td>\n",
       "      <td>B</td>\n",
       "      <td>11</td>\n",
       "      <td>3097</td>\n",
       "      <td>0</td>\n",
       "      <td>NaN</td>\n",
       "      <td>0</td>\n",
       "      <td>0</td>\n",
       "      <td>B</td>\n",
       "      <td>305018.871089</td>\n",
       "      <td>0</td>\n",
       "    </tr>\n",
       "    <tr>\n",
       "      <th>1</th>\n",
       "      <td>3013</td>\n",
       "      <td>22</td>\n",
       "      <td>1.0</td>\n",
       "      <td>39.832524</td>\n",
       "      <td>23.169223</td>\n",
       "      <td>8.0</td>\n",
       "      <td>7</td>\n",
       "      <td>8.0</td>\n",
       "      <td>1966</td>\n",
       "      <td>0.118537</td>\n",
       "      <td>...</td>\n",
       "      <td>B</td>\n",
       "      <td>30</td>\n",
       "      <td>6207</td>\n",
       "      <td>1</td>\n",
       "      <td>1183.0</td>\n",
       "      <td>1</td>\n",
       "      <td>0</td>\n",
       "      <td>B</td>\n",
       "      <td>177734.553407</td>\n",
       "      <td>0</td>\n",
       "    </tr>\n",
       "    <tr>\n",
       "      <th>2</th>\n",
       "      <td>8215</td>\n",
       "      <td>1</td>\n",
       "      <td>3.0</td>\n",
       "      <td>78.342215</td>\n",
       "      <td>47.671972</td>\n",
       "      <td>10.0</td>\n",
       "      <td>2</td>\n",
       "      <td>17.0</td>\n",
       "      <td>1988</td>\n",
       "      <td>0.025609</td>\n",
       "      <td>...</td>\n",
       "      <td>B</td>\n",
       "      <td>33</td>\n",
       "      <td>5261</td>\n",
       "      <td>0</td>\n",
       "      <td>240.0</td>\n",
       "      <td>3</td>\n",
       "      <td>1</td>\n",
       "      <td>B</td>\n",
       "      <td>282078.720850</td>\n",
       "      <td>0</td>\n",
       "    </tr>\n",
       "    <tr>\n",
       "      <th>3</th>\n",
       "      <td>2352</td>\n",
       "      <td>1</td>\n",
       "      <td>1.0</td>\n",
       "      <td>40.409907</td>\n",
       "      <td>NaN</td>\n",
       "      <td>1.0</td>\n",
       "      <td>10</td>\n",
       "      <td>22.0</td>\n",
       "      <td>1977</td>\n",
       "      <td>0.007122</td>\n",
       "      <td>...</td>\n",
       "      <td>B</td>\n",
       "      <td>1</td>\n",
       "      <td>264</td>\n",
       "      <td>0</td>\n",
       "      <td>NaN</td>\n",
       "      <td>0</td>\n",
       "      <td>1</td>\n",
       "      <td>B</td>\n",
       "      <td>168106.007630</td>\n",
       "      <td>0</td>\n",
       "    </tr>\n",
       "    <tr>\n",
       "      <th>4</th>\n",
       "      <td>13866</td>\n",
       "      <td>94</td>\n",
       "      <td>2.0</td>\n",
       "      <td>64.285067</td>\n",
       "      <td>38.562517</td>\n",
       "      <td>9.0</td>\n",
       "      <td>16</td>\n",
       "      <td>16.0</td>\n",
       "      <td>1972</td>\n",
       "      <td>0.282798</td>\n",
       "      <td>...</td>\n",
       "      <td>B</td>\n",
       "      <td>33</td>\n",
       "      <td>8667</td>\n",
       "      <td>2</td>\n",
       "      <td>NaN</td>\n",
       "      <td>0</td>\n",
       "      <td>6</td>\n",
       "      <td>B</td>\n",
       "      <td>343995.102962</td>\n",
       "      <td>0</td>\n",
       "    </tr>\n",
       "  </tbody>\n",
       "</table>\n",
       "<p>5 rows × 21 columns</p>\n",
       "</div>"
      ],
      "text/plain": [
       "      Id DistrictId  Rooms      Square  LifeSquare  KitchenSquare  Floor  \\\n",
       "0  11809         27    3.0  115.027311         NaN           10.0      4   \n",
       "1   3013         22    1.0   39.832524   23.169223            8.0      7   \n",
       "2   8215          1    3.0   78.342215   47.671972           10.0      2   \n",
       "3   2352          1    1.0   40.409907         NaN            1.0     10   \n",
       "4  13866         94    2.0   64.285067   38.562517            9.0     16   \n",
       "\n",
       "   HouseFloor  HouseYear  Ecology_1  ... Ecology_3 Social_1  Social_2  \\\n",
       "0        10.0       2014   0.075424  ...         B       11      3097   \n",
       "1         8.0       1966   0.118537  ...         B       30      6207   \n",
       "2        17.0       1988   0.025609  ...         B       33      5261   \n",
       "3        22.0       1977   0.007122  ...         B        1       264   \n",
       "4        16.0       1972   0.282798  ...         B       33      8667   \n",
       "\n",
       "   Social_3  Healthcare_1  Helthcare_2  Shops_1  Shops_2          Price  \\\n",
       "0         0           NaN            0        0        B  305018.871089   \n",
       "1         1        1183.0            1        0        B  177734.553407   \n",
       "2         0         240.0            3        1        B  282078.720850   \n",
       "3         0           NaN            0        1        B  168106.007630   \n",
       "4         2           NaN            0        6        B  343995.102962   \n",
       "\n",
       "   Rooms_outlier  \n",
       "0              0  \n",
       "1              0  \n",
       "2              0  \n",
       "3              0  \n",
       "4              0  \n",
       "\n",
       "[5 rows x 21 columns]"
      ]
     },
     "execution_count": 18,
     "metadata": {},
     "output_type": "execute_result"
    }
   ],
   "source": [
    "train_df['Rooms_outlier'] = 0\n",
    "train_df.loc[(train_df['Rooms'] == 0) | (train_df['Rooms'] >= 6), 'Rooms_outlier'] = 1\n",
    "train_df.head()"
   ]
  },
  {
   "cell_type": "code",
   "execution_count": 19,
   "metadata": {
    "execution": {
     "iopub.execute_input": "2020-12-23T14:55:45.504077Z",
     "iopub.status.busy": "2020-12-23T14:55:45.503423Z",
     "iopub.status.idle": "2020-12-23T14:55:45.506909Z",
     "shell.execute_reply": "2020-12-23T14:55:45.507420Z"
    },
    "id": "TKVdsBGTf0MT",
    "papermill": {
     "duration": 0.129542,
     "end_time": "2020-12-23T14:55:45.507575",
     "exception": false,
     "start_time": "2020-12-23T14:55:45.378033",
     "status": "completed"
    },
    "tags": []
   },
   "outputs": [],
   "source": [
    "train_df.loc[train_df['Rooms'] == 0, 'Rooms'] = 1\n",
    "train_df.loc[train_df['Rooms'] >= 6, 'Rooms'] = train_df['Rooms'].median()"
   ]
  },
  {
   "cell_type": "code",
   "execution_count": 20,
   "metadata": {
    "colab": {
     "base_uri": "https://localhost:8080/"
    },
    "execution": {
     "iopub.execute_input": "2020-12-23T14:55:45.673111Z",
     "iopub.status.busy": "2020-12-23T14:55:45.672357Z",
     "iopub.status.idle": "2020-12-23T14:55:45.682640Z",
     "shell.execute_reply": "2020-12-23T14:55:45.683405Z"
    },
    "id": "g2x-JR6nf0MU",
    "outputId": "bcf81df2-e2e6-43a8-d4c7-82cc24b12b2b",
    "papermill": {
     "duration": 0.103268,
     "end_time": "2020-12-23T14:55:45.683571",
     "exception": false,
     "start_time": "2020-12-23T14:55:45.580303",
     "status": "completed"
    },
    "tags": []
   },
   "outputs": [
    {
     "data": {
      "text/plain": [
       "2.0    3884\n",
       "1.0    3713\n",
       "3.0    2235\n",
       "4.0     150\n",
       "5.0      18\n",
       "Name: Rooms, dtype: int64"
      ]
     },
     "execution_count": 20,
     "metadata": {},
     "output_type": "execute_result"
    }
   ],
   "source": [
    "train_df['Rooms'].value_counts()"
   ]
  },
  {
   "cell_type": "markdown",
   "metadata": {
    "id": "DmzRhLVof0MV",
    "papermill": {
     "duration": 0.079991,
     "end_time": "2020-12-23T14:55:45.838297",
     "exception": false,
     "start_time": "2020-12-23T14:55:45.758306",
     "status": "completed"
    },
    "tags": []
   },
   "source": [
    "**KitchenSquare** "
   ]
  },
  {
   "cell_type": "code",
   "execution_count": 21,
   "metadata": {
    "colab": {
     "base_uri": "https://localhost:8080/"
    },
    "execution": {
     "iopub.execute_input": "2020-12-23T14:55:45.991696Z",
     "iopub.status.busy": "2020-12-23T14:55:45.990981Z",
     "iopub.status.idle": "2020-12-23T14:55:46.003666Z",
     "shell.execute_reply": "2020-12-23T14:55:46.004257Z"
    },
    "id": "Quz0MwBHf0MV",
    "outputId": "30182a66-d1b8-4e08-b8cd-9039a011968c",
    "papermill": {
     "duration": 0.087979,
     "end_time": "2020-12-23T14:55:46.004413",
     "exception": false,
     "start_time": "2020-12-23T14:55:45.916434",
     "status": "completed"
    },
    "tags": []
   },
   "outputs": [
    {
     "data": {
      "text/plain": [
       "1.0       2460\n",
       "8.0       1306\n",
       "5.0       1169\n",
       "10.0      1075\n",
       "6.0       1038\n",
       "9.0        843\n",
       "0.0        697\n",
       "7.0        609\n",
       "12.0       249\n",
       "11.0       233\n",
       "13.0        67\n",
       "14.0        51\n",
       "4.0         39\n",
       "15.0        31\n",
       "3.0         22\n",
       "16.0        16\n",
       "20.0        14\n",
       "17.0        12\n",
       "19.0        11\n",
       "18.0         6\n",
       "2.0          4\n",
       "22.0         3\n",
       "43.0         2\n",
       "112.0        2\n",
       "41.0         2\n",
       "32.0         2\n",
       "58.0         2\n",
       "25.0         2\n",
       "37.0         2\n",
       "30.0         2\n",
       "51.0         2\n",
       "40.0         1\n",
       "96.0         1\n",
       "48.0         1\n",
       "72.0         1\n",
       "73.0         1\n",
       "2014.0       1\n",
       "66.0         1\n",
       "36.0         1\n",
       "78.0         1\n",
       "54.0         1\n",
       "29.0         1\n",
       "31.0         1\n",
       "35.0         1\n",
       "62.0         1\n",
       "39.0         1\n",
       "1970.0       1\n",
       "60.0         1\n",
       "75.0         1\n",
       "26.0         1\n",
       "21.0         1\n",
       "84.0         1\n",
       "63.0         1\n",
       "123.0        1\n",
       "53.0         1\n",
       "42.0         1\n",
       "23.0         1\n",
       "27.0         1\n",
       "Name: KitchenSquare, dtype: int64"
      ]
     },
     "execution_count": 21,
     "metadata": {},
     "output_type": "execute_result"
    }
   ],
   "source": [
    "train_df['KitchenSquare'].value_counts()"
   ]
  },
  {
   "cell_type": "code",
   "execution_count": 22,
   "metadata": {
    "colab": {
     "base_uri": "https://localhost:8080/"
    },
    "execution": {
     "iopub.execute_input": "2020-12-23T14:55:46.151834Z",
     "iopub.status.busy": "2020-12-23T14:55:46.151218Z",
     "iopub.status.idle": "2020-12-23T14:55:46.162180Z",
     "shell.execute_reply": "2020-12-23T14:55:46.162792Z"
    },
    "id": "2JlTfwSBf0MW",
    "outputId": "0b6ca863-0e6c-4fc8-dcb5-0d664e70be72",
    "papermill": {
     "duration": 0.086494,
     "end_time": "2020-12-23T14:55:46.162946",
     "exception": false,
     "start_time": "2020-12-23T14:55:46.076452",
     "status": "completed"
    },
    "tags": []
   },
   "outputs": [
    {
     "data": {
      "text/plain": [
       "(13.0, 0.0)"
      ]
     },
     "execution_count": 22,
     "metadata": {},
     "output_type": "execute_result"
    }
   ],
   "source": [
    "train_df['KitchenSquare'].quantile(.975), train_df['KitchenSquare'].quantile(.025)"
   ]
  },
  {
   "cell_type": "code",
   "execution_count": 23,
   "metadata": {
    "execution": {
     "iopub.execute_input": "2020-12-23T14:55:46.316209Z",
     "iopub.status.busy": "2020-12-23T14:55:46.315203Z",
     "iopub.status.idle": "2020-12-23T14:55:46.325253Z",
     "shell.execute_reply": "2020-12-23T14:55:46.326136Z"
    },
    "id": "xL_8YESwf0MW",
    "papermill": {
     "duration": 0.086641,
     "end_time": "2020-12-23T14:55:46.326430",
     "exception": false,
     "start_time": "2020-12-23T14:55:46.239789",
     "status": "completed"
    },
    "tags": []
   },
   "outputs": [],
   "source": [
    "condition = (train_df['KitchenSquare'].isna()) \\\n",
    "             | (train_df['KitchenSquare'] > train_df['KitchenSquare'].quantile(.975))\n",
    "        \n",
    "train_df.loc[condition, 'KitchenSquare'] = train_df['KitchenSquare'].median()\n",
    "\n",
    "train_df.loc[train_df['KitchenSquare'] < 3, 'KitchenSquare'] = 3"
   ]
  },
  {
   "cell_type": "code",
   "execution_count": 24,
   "metadata": {
    "colab": {
     "base_uri": "https://localhost:8080/"
    },
    "execution": {
     "iopub.execute_input": "2020-12-23T14:55:46.477484Z",
     "iopub.status.busy": "2020-12-23T14:55:46.476878Z",
     "iopub.status.idle": "2020-12-23T14:55:46.485549Z",
     "shell.execute_reply": "2020-12-23T14:55:46.484971Z"
    },
    "id": "Rz7UjeDkf0MW",
    "outputId": "f2aae8bf-4208-4fff-f3fb-a93e88ec2d06",
    "papermill": {
     "duration": 0.08302,
     "end_time": "2020-12-23T14:55:46.485705",
     "exception": false,
     "start_time": "2020-12-23T14:55:46.402685",
     "status": "completed"
    },
    "tags": []
   },
   "outputs": [
    {
     "data": {
      "text/plain": [
       "3.0     3183\n",
       "8.0     1306\n",
       "6.0     1227\n",
       "5.0     1169\n",
       "10.0    1075\n",
       "9.0      843\n",
       "7.0      609\n",
       "12.0     249\n",
       "11.0     233\n",
       "13.0      67\n",
       "4.0       39\n",
       "Name: KitchenSquare, dtype: int64"
      ]
     },
     "execution_count": 24,
     "metadata": {},
     "output_type": "execute_result"
    }
   ],
   "source": [
    "train_df['KitchenSquare'].value_counts()"
   ]
  },
  {
   "cell_type": "markdown",
   "metadata": {
    "id": "CXR4kMRaf0MX",
    "papermill": {
     "duration": 0.073395,
     "end_time": "2020-12-23T14:55:46.632122",
     "exception": false,
     "start_time": "2020-12-23T14:55:46.558727",
     "status": "completed"
    },
    "tags": []
   },
   "source": [
    "**HouseFloor, Floor**"
   ]
  },
  {
   "cell_type": "code",
   "execution_count": 25,
   "metadata": {
    "colab": {
     "base_uri": "https://localhost:8080/"
    },
    "execution": {
     "iopub.execute_input": "2020-12-23T14:55:46.786397Z",
     "iopub.status.busy": "2020-12-23T14:55:46.785411Z",
     "iopub.status.idle": "2020-12-23T14:55:46.792117Z",
     "shell.execute_reply": "2020-12-23T14:55:46.792623Z"
    },
    "id": "NVXxTB2ef0MX",
    "outputId": "dceef0a9-3b55-42d2-ad44-f06a651d1cd6",
    "papermill": {
     "duration": 0.086651,
     "end_time": "2020-12-23T14:55:46.792772",
     "exception": false,
     "start_time": "2020-12-23T14:55:46.706121",
     "status": "completed"
    },
    "scrolled": true,
    "tags": []
   },
   "outputs": [
    {
     "data": {
      "text/plain": [
       "array([  0.,   1.,   2.,   3.,   4.,   5.,   6.,   7.,   8.,   9.,  10.,\n",
       "        11.,  12.,  13.,  14.,  15.,  16.,  17.,  18.,  19.,  20.,  21.,\n",
       "        22.,  23.,  24.,  25.,  26.,  27.,  28.,  29.,  30.,  31.,  32.,\n",
       "        36.,  37.,  38.,  39.,  40.,  44.,  45.,  47.,  48.,  99., 117.])"
      ]
     },
     "execution_count": 25,
     "metadata": {},
     "output_type": "execute_result"
    }
   ],
   "source": [
    "train_df['HouseFloor'].sort_values().unique()"
   ]
  },
  {
   "cell_type": "code",
   "execution_count": 26,
   "metadata": {
    "colab": {
     "base_uri": "https://localhost:8080/"
    },
    "execution": {
     "iopub.execute_input": "2020-12-23T14:55:46.944674Z",
     "iopub.status.busy": "2020-12-23T14:55:46.944027Z",
     "iopub.status.idle": "2020-12-23T14:55:46.950205Z",
     "shell.execute_reply": "2020-12-23T14:55:46.949694Z"
    },
    "id": "BkPkgCMXf0MY",
    "outputId": "b5b0d014-2e8f-4be1-d35e-c41bb4ac0095",
    "papermill": {
     "duration": 0.08397,
     "end_time": "2020-12-23T14:55:46.950317",
     "exception": false,
     "start_time": "2020-12-23T14:55:46.866347",
     "status": "completed"
    },
    "scrolled": true,
    "tags": []
   },
   "outputs": [
    {
     "data": {
      "text/plain": [
       "array([ 1,  2,  3,  4,  5,  6,  7,  8,  9, 10, 11, 12, 13, 14, 15, 16, 17,\n",
       "       18, 19, 20, 21, 22, 23, 24, 25, 26, 27, 28, 31, 32, 33, 37, 42],\n",
       "      dtype=int64)"
      ]
     },
     "execution_count": 26,
     "metadata": {},
     "output_type": "execute_result"
    }
   ],
   "source": [
    "train_df['Floor'].sort_values().unique()"
   ]
  },
  {
   "cell_type": "code",
   "execution_count": 27,
   "metadata": {
    "colab": {
     "base_uri": "https://localhost:8080/"
    },
    "execution": {
     "iopub.execute_input": "2020-12-23T14:55:47.103708Z",
     "iopub.status.busy": "2020-12-23T14:55:47.103032Z",
     "iopub.status.idle": "2020-12-23T14:55:47.108074Z",
     "shell.execute_reply": "2020-12-23T14:55:47.107513Z"
    },
    "id": "eaoKlLXDf0MY",
    "outputId": "802126a9-a800-4b3e-ddf5-e40bf23fa52d",
    "papermill": {
     "duration": 0.084453,
     "end_time": "2020-12-23T14:55:47.108189",
     "exception": false,
     "start_time": "2020-12-23T14:55:47.023736",
     "status": "completed"
    },
    "tags": []
   },
   "outputs": [
    {
     "data": {
      "text/plain": [
       "1825"
      ]
     },
     "execution_count": 27,
     "metadata": {},
     "output_type": "execute_result"
    }
   ],
   "source": [
    "(train_df['Floor'] > train_df['HouseFloor']).sum()"
   ]
  },
  {
   "cell_type": "code",
   "execution_count": 28,
   "metadata": {},
   "outputs": [],
   "source": [
    "train_df['HouseFloor_outlier'] = 0\n",
    "train_df.loc[train_df['HouseFloor'] == 0, 'HouseFloor_outlier'] = 1\n",
    "train_df.loc[train_df['Floor'] > train_df['HouseFloor'], 'HouseFloor_outlier'] = 1"
   ]
  },
  {
   "cell_type": "code",
   "execution_count": 29,
   "metadata": {
    "execution": {
     "iopub.execute_input": "2020-12-23T14:55:47.424228Z",
     "iopub.status.busy": "2020-12-23T14:55:47.423529Z",
     "iopub.status.idle": "2020-12-23T14:55:47.426680Z",
     "shell.execute_reply": "2020-12-23T14:55:47.426027Z"
    },
    "id": "r38yYnHrf0MZ",
    "papermill": {
     "duration": 0.082371,
     "end_time": "2020-12-23T14:55:47.426788",
     "exception": false,
     "start_time": "2020-12-23T14:55:47.344417",
     "status": "completed"
    },
    "tags": []
   },
   "outputs": [],
   "source": [
    "train_df.loc[train_df['HouseFloor'] == 0, 'HouseFloor'] = train_df['HouseFloor'].median()"
   ]
  },
  {
   "cell_type": "code",
   "execution_count": 30,
   "metadata": {
    "colab": {
     "base_uri": "https://localhost:8080/"
    },
    "execution": {
     "iopub.execute_input": "2020-12-23T14:55:47.909581Z",
     "iopub.status.busy": "2020-12-23T14:55:47.908585Z",
     "iopub.status.idle": "2020-12-23T14:55:47.913133Z",
     "shell.execute_reply": "2020-12-23T14:55:47.912563Z"
    },
    "id": "Pxxp1ky9f0Ma",
    "outputId": "2f3095c8-0c55-4ed3-eeeb-6c3511247330",
    "papermill": {
     "duration": 0.085177,
     "end_time": "2020-12-23T14:55:47.913245",
     "exception": false,
     "start_time": "2020-12-23T14:55:47.828068",
     "status": "completed"
    },
    "tags": []
   },
   "outputs": [
    {
     "data": {
      "text/plain": [
       "1610"
      ]
     },
     "execution_count": 30,
     "metadata": {},
     "output_type": "execute_result"
    }
   ],
   "source": [
    "(train_df['Floor'] > train_df['HouseFloor']).sum()"
   ]
  },
  {
   "cell_type": "markdown",
   "metadata": {
    "id": "XRUrj59Kf0Mb",
    "papermill": {
     "duration": 0.074707,
     "end_time": "2020-12-23T14:55:48.062795",
     "exception": false,
     "start_time": "2020-12-23T14:55:47.988088",
     "status": "completed"
    },
    "tags": []
   },
   "source": [
    "**HouseYear**"
   ]
  },
  {
   "cell_type": "code",
   "execution_count": 31,
   "metadata": {
    "colab": {
     "base_uri": "https://localhost:8080/"
    },
    "execution": {
     "iopub.execute_input": "2020-12-23T14:55:48.219754Z",
     "iopub.status.busy": "2020-12-23T14:55:48.219122Z",
     "iopub.status.idle": "2020-12-23T14:55:48.225821Z",
     "shell.execute_reply": "2020-12-23T14:55:48.226358Z"
    },
    "id": "3nMxI-W6f0Mb",
    "outputId": "b2552d2e-9480-4574-b3ab-8f1789e58b0e",
    "papermill": {
     "duration": 0.088523,
     "end_time": "2020-12-23T14:55:48.226501",
     "exception": false,
     "start_time": "2020-12-23T14:55:48.137978",
     "status": "completed"
    },
    "tags": []
   },
   "outputs": [
    {
     "data": {
      "text/plain": [
       "9163    20052011\n",
       "8828        4968\n",
       "7246        2020\n",
       "2350        2020\n",
       "8296        2020\n",
       "          ...   \n",
       "7610        1916\n",
       "6250        1914\n",
       "2066        1912\n",
       "2795        1912\n",
       "6794        1910\n",
       "Name: HouseYear, Length: 10000, dtype: int64"
      ]
     },
     "execution_count": 31,
     "metadata": {},
     "output_type": "execute_result"
    }
   ],
   "source": [
    "train_df['HouseYear'].sort_values(ascending=False)"
   ]
  },
  {
   "cell_type": "code",
   "execution_count": 32,
   "metadata": {
    "execution": {
     "iopub.execute_input": "2020-12-23T14:55:48.384183Z",
     "iopub.status.busy": "2020-12-23T14:55:48.383261Z",
     "iopub.status.idle": "2020-12-23T14:55:48.386735Z",
     "shell.execute_reply": "2020-12-23T14:55:48.386207Z"
    },
    "id": "Uq29VVT_f0Me",
    "papermill": {
     "duration": 0.084996,
     "end_time": "2020-12-23T14:55:48.386842",
     "exception": false,
     "start_time": "2020-12-23T14:55:48.301846",
     "status": "completed"
    },
    "tags": []
   },
   "outputs": [],
   "source": [
    "train_df.loc[train_df['HouseYear'] > 2022, 'HouseYear'] = 2022"
   ]
  },
  {
   "cell_type": "markdown",
   "metadata": {
    "id": "rCv1tB8Df0Mf",
    "papermill": {
     "duration": 0.076423,
     "end_time": "2020-12-23T14:55:48.539392",
     "exception": false,
     "start_time": "2020-12-23T14:55:48.462969",
     "status": "completed"
    },
    "tags": []
   },
   "source": [
    "### 3. Обработка пропусков  <a class='anchor' id='nan'>"
   ]
  },
  {
   "cell_type": "code",
   "execution_count": 33,
   "metadata": {
    "colab": {
     "base_uri": "https://localhost:8080/"
    },
    "execution": {
     "iopub.execute_input": "2020-12-23T14:55:48.698163Z",
     "iopub.status.busy": "2020-12-23T14:55:48.697437Z",
     "iopub.status.idle": "2020-12-23T14:55:48.712550Z",
     "shell.execute_reply": "2020-12-23T14:55:48.711945Z"
    },
    "id": "PYfqwPkOf0Mf",
    "outputId": "2afe13fe-c424-4016-8c75-25f4968485a0",
    "papermill": {
     "duration": 0.096615,
     "end_time": "2020-12-23T14:55:48.712676",
     "exception": false,
     "start_time": "2020-12-23T14:55:48.616061",
     "status": "completed"
    },
    "tags": []
   },
   "outputs": [
    {
     "data": {
      "text/plain": [
       "Id                       0\n",
       "DistrictId               0\n",
       "Rooms                    0\n",
       "Square                   0\n",
       "LifeSquare            2113\n",
       "KitchenSquare            0\n",
       "Floor                    0\n",
       "HouseFloor               0\n",
       "HouseYear                0\n",
       "Ecology_1                0\n",
       "Ecology_2                0\n",
       "Ecology_3                0\n",
       "Social_1                 0\n",
       "Social_2                 0\n",
       "Social_3                 0\n",
       "Healthcare_1          4798\n",
       "Helthcare_2              0\n",
       "Shops_1                  0\n",
       "Shops_2                  0\n",
       "Price                    0\n",
       "Rooms_outlier            0\n",
       "HouseFloor_outlier       0\n",
       "dtype: int64"
      ]
     },
     "execution_count": 33,
     "metadata": {},
     "output_type": "execute_result"
    }
   ],
   "source": [
    "train_df.isna().sum()"
   ]
  },
  {
   "cell_type": "code",
   "execution_count": 34,
   "metadata": {
    "colab": {
     "base_uri": "https://localhost:8080/",
     "height": 363
    },
    "execution": {
     "iopub.execute_input": "2020-12-23T14:55:48.877598Z",
     "iopub.status.busy": "2020-12-23T14:55:48.876809Z",
     "iopub.status.idle": "2020-12-23T14:55:48.879819Z",
     "shell.execute_reply": "2020-12-23T14:55:48.880413Z"
    },
    "id": "ig0PauKCf0Mg",
    "outputId": "307abec1-6c2d-4893-be65-fc2ef66420f3",
    "papermill": {
     "duration": 0.09161,
     "end_time": "2020-12-23T14:55:48.880570",
     "exception": false,
     "start_time": "2020-12-23T14:55:48.788960",
     "status": "completed"
    },
    "tags": []
   },
   "outputs": [
    {
     "data": {
      "text/html": [
       "<div>\n",
       "<style scoped>\n",
       "    .dataframe tbody tr th:only-of-type {\n",
       "        vertical-align: middle;\n",
       "    }\n",
       "\n",
       "    .dataframe tbody tr th {\n",
       "        vertical-align: top;\n",
       "    }\n",
       "\n",
       "    .dataframe thead th {\n",
       "        text-align: right;\n",
       "    }\n",
       "</style>\n",
       "<table border=\"1\" class=\"dataframe\">\n",
       "  <thead>\n",
       "    <tr style=\"text-align: right;\">\n",
       "      <th></th>\n",
       "      <th>Square</th>\n",
       "      <th>LifeSquare</th>\n",
       "      <th>KitchenSquare</th>\n",
       "    </tr>\n",
       "  </thead>\n",
       "  <tbody>\n",
       "    <tr>\n",
       "      <th>0</th>\n",
       "      <td>115.027311</td>\n",
       "      <td>NaN</td>\n",
       "      <td>10.0</td>\n",
       "    </tr>\n",
       "    <tr>\n",
       "      <th>1</th>\n",
       "      <td>39.832524</td>\n",
       "      <td>23.169223</td>\n",
       "      <td>8.0</td>\n",
       "    </tr>\n",
       "    <tr>\n",
       "      <th>2</th>\n",
       "      <td>78.342215</td>\n",
       "      <td>47.671972</td>\n",
       "      <td>10.0</td>\n",
       "    </tr>\n",
       "    <tr>\n",
       "      <th>3</th>\n",
       "      <td>40.409907</td>\n",
       "      <td>NaN</td>\n",
       "      <td>3.0</td>\n",
       "    </tr>\n",
       "    <tr>\n",
       "      <th>4</th>\n",
       "      <td>64.285067</td>\n",
       "      <td>38.562517</td>\n",
       "      <td>9.0</td>\n",
       "    </tr>\n",
       "    <tr>\n",
       "      <th>5</th>\n",
       "      <td>62.528465</td>\n",
       "      <td>47.103833</td>\n",
       "      <td>6.0</td>\n",
       "    </tr>\n",
       "    <tr>\n",
       "      <th>6</th>\n",
       "      <td>33.938750</td>\n",
       "      <td>21.772930</td>\n",
       "      <td>9.0</td>\n",
       "    </tr>\n",
       "    <tr>\n",
       "      <th>7</th>\n",
       "      <td>50.391814</td>\n",
       "      <td>32.893256</td>\n",
       "      <td>8.0</td>\n",
       "    </tr>\n",
       "    <tr>\n",
       "      <th>8</th>\n",
       "      <td>46.887892</td>\n",
       "      <td>44.628132</td>\n",
       "      <td>3.0</td>\n",
       "    </tr>\n",
       "    <tr>\n",
       "      <th>9</th>\n",
       "      <td>79.867477</td>\n",
       "      <td>75.085125</td>\n",
       "      <td>3.0</td>\n",
       "    </tr>\n",
       "  </tbody>\n",
       "</table>\n",
       "</div>"
      ],
      "text/plain": [
       "       Square  LifeSquare  KitchenSquare\n",
       "0  115.027311         NaN           10.0\n",
       "1   39.832524   23.169223            8.0\n",
       "2   78.342215   47.671972           10.0\n",
       "3   40.409907         NaN            3.0\n",
       "4   64.285067   38.562517            9.0\n",
       "5   62.528465   47.103833            6.0\n",
       "6   33.938750   21.772930            9.0\n",
       "7   50.391814   32.893256            8.0\n",
       "8   46.887892   44.628132            3.0\n",
       "9   79.867477   75.085125            3.0"
      ]
     },
     "execution_count": 34,
     "metadata": {},
     "output_type": "execute_result"
    }
   ],
   "source": [
    "train_df[['Square', 'LifeSquare', 'KitchenSquare']].head(10)"
   ]
  },
  {
   "cell_type": "markdown",
   "metadata": {
    "id": "Rw16smQ0f0Mh",
    "papermill": {
     "duration": 0.077755,
     "end_time": "2020-12-23T14:55:49.035983",
     "exception": false,
     "start_time": "2020-12-23T14:55:48.958228",
     "status": "completed"
    },
    "tags": []
   },
   "source": [
    "**LifeSquare**"
   ]
  },
  {
   "cell_type": "code",
   "execution_count": 35,
   "metadata": {
    "execution": {
     "iopub.execute_input": "2020-12-23T14:55:49.192151Z",
     "iopub.status.busy": "2020-12-23T14:55:49.191487Z",
     "iopub.status.idle": "2020-12-23T14:55:49.203075Z",
     "shell.execute_reply": "2020-12-23T14:55:49.203659Z"
    },
    "id": "pBc9ffKZf0Mh",
    "papermill": {
     "duration": 0.091085,
     "end_time": "2020-12-23T14:55:49.203818",
     "exception": false,
     "start_time": "2020-12-23T14:55:49.112733",
     "status": "completed"
    },
    "tags": []
   },
   "outputs": [],
   "source": [
    "condition = (train_df['LifeSquare'].isna()) \\\n",
    "             & (~train_df['Square'].isna()) \\\n",
    "             & (~train_df['KitchenSquare'].isna())\n",
    "        \n",
    "train_df.loc[condition, 'LifeSquare'] = train_df.loc[condition, 'Square'] \\\n",
    "                                            - train_df.loc[condition, 'KitchenSquare'] - 3"
   ]
  },
  {
   "cell_type": "markdown",
   "metadata": {
    "id": "-6bFIJzUf0Mh",
    "papermill": {
     "duration": 0.076297,
     "end_time": "2020-12-23T14:55:49.357690",
     "exception": false,
     "start_time": "2020-12-23T14:55:49.281393",
     "status": "completed"
    },
    "tags": []
   },
   "source": [
    "**Healthcare_1**"
   ]
  },
  {
   "cell_type": "code",
   "execution_count": 36,
   "metadata": {},
   "outputs": [],
   "source": [
    "# Удалим записи где в квартирах число комнат больше 6  или меньше 1 "
   ]
  },
  {
   "cell_type": "code",
   "execution_count": 37,
   "metadata": {
    "execution": {
     "iopub.execute_input": "2020-12-23T14:55:49.519924Z",
     "iopub.status.busy": "2020-12-23T14:55:49.518931Z",
     "iopub.status.idle": "2020-12-23T14:55:49.521855Z",
     "shell.execute_reply": "2020-12-23T14:55:49.521359Z"
    },
    "id": "fhW4IOc0f0Mi",
    "papermill": {
     "duration": 0.086681,
     "end_time": "2020-12-23T14:55:49.521984",
     "exception": false,
     "start_time": "2020-12-23T14:55:49.435303",
     "status": "completed"
    },
    "tags": []
   },
   "outputs": [],
   "source": [
    "#train_df = train_df.drop(train_df[(train_df['Rooms'] > 6) | (train_df['Rooms'] < 1)].index, axis=0)"
   ]
  },
  {
   "cell_type": "code",
   "execution_count": 38,
   "metadata": {},
   "outputs": [],
   "source": [
    "# Удалим записи где площадь квартиры больше 500 кв. м или меньше 15 кв. м\n",
    "train_df = train_df.drop(train_df[(train_df['Square']>500)|(train_df['Square']<15)].index, axis=0)"
   ]
  },
  {
   "cell_type": "code",
   "execution_count": 39,
   "metadata": {
    "execution": {
     "iopub.execute_input": "2020-12-23T14:55:49.700093Z",
     "iopub.status.busy": "2020-12-23T14:55:49.699349Z",
     "iopub.status.idle": "2020-12-23T14:55:49.702484Z",
     "shell.execute_reply": "2020-12-23T14:55:49.701942Z"
    },
    "id": "_jvFxDiEf0Mi",
    "papermill": {
     "duration": 0.102939,
     "end_time": "2020-12-23T14:55:49.702602",
     "exception": false,
     "start_time": "2020-12-23T14:55:49.599663",
     "status": "completed"
    },
    "tags": []
   },
   "outputs": [],
   "source": [
    "class DataPreprocessing:\n",
    "    \"\"\"Подготовка исходных данных\"\"\"\n",
    "\n",
    "    def __init__(self, kitchen_square_quantile=0.975, kitchen_square_min_threshold=3, balcony_square=3):\n",
    "        \"\"\"Параметры класса\"\"\"\n",
    "        self.medians=None\n",
    "        self.kitchen_square_quantile = kitchen_square_quantile\n",
    "        self.kitchen_square_min_threshold = kitchen_square_min_threshold\n",
    "        self.balcony_square = balcony_square\n",
    "        \n",
    "    def fit(self, df):\n",
    "        \"\"\"Сохранение статистик\"\"\"       \n",
    "        # Расчет медиан\n",
    "        self.medians = df.median()\n",
    "        self.kitchen_square_quantile = df['KitchenSquare'].quantile(self.kitchen_square_quantile)\n",
    "\n",
    "        \n",
    "    def fixed_Healthcare_1(self, df):\n",
    "        # Корректируем район\n",
    "        \n",
    "        # Определяем id районов\n",
    "        district_id = df['DistrictId'].unique()\n",
    "        for id in district_id:\n",
    "            df.loc[(df['DistrictId'] == id) & (df['Healthcare_1'].isna()), 'Healthcare_1'] = \\\n",
    "            df.loc[df['DistrictId'] == id, 'Healthcare_1'].mean()\n",
    "        df.loc[df['Healthcare_1'].isna(), 'Healthcare_1'] = df['Healthcare_1'].mean()\n",
    "        \n",
    "    def fixed_Floor(self, df):\n",
    "        # Корректируем этажность домов\n",
    "        current_year = datetime.now().year\n",
    "        #Если этажность дома не указана, то в качестве ее возьмем медиану\n",
    "        df.loc[df['HouseFloor'] == 0, 'HouseFloor'] = self.medians['HouseFloor']\n",
    "        \n",
    "        #Если этаж квартиры больше этажа сдания то поменяем их местами\n",
    "        index_to_do = df[df['HouseFloor'] < df['Floor']].index\n",
    "        for idx in index_to_do:\n",
    "            df.loc[idx, 'HouseFloor'], df.loc[idx, 'Floor']  = df.loc[idx, 'Floor'], df.loc[idx, 'HouseFloor']\n",
    "\n",
    "\n",
    "        #Дома построенные до 2000 года не могут быть выше 30 этажей\n",
    "        #В части где этаж квартиры низкий будем считать, что ошиблись в этажности дома\n",
    "        index_to_do = df[(df['HouseFloor'] > 30) & (df['HouseYear'] < 2000) & (df['Floor'] <= 10)].index\n",
    "        for idx in index_to_do:\n",
    "            df.loc[idx, 'HouseFloor'] = df.loc[idx, 'Floor']\n",
    "\n",
    "        #В остальных (где этаж квартиры > 10) будем считать, что ошиблись годом\n",
    "        Median_year = df.groupby('HouseFloor')[['HouseYear']].median()\n",
    "        index_to_do = df[(df['HouseFloor'] > 30) & (df['HouseYear'] < 2000) & (df['Floor'] > 10)].index\n",
    "        for idx in index_to_do:\n",
    "            df.loc[idx, 'HouseYear'] = Median_year.loc[df.loc[idx, 'HouseFloor'], 'HouseYear']\n",
    "\n",
    "        #Есть год постройки до революции и этажей больше 5, то установим медианный год по этажности здания    \n",
    "        index_to_do = df[(df['HouseFloor'] > 5) & (df['HouseYear'] < 1920)].index\n",
    "        for idx in index_to_do:\n",
    "            df.loc[idx, 'HouseYear'] = Median_year.loc[df.loc[idx, 'HouseFloor'], 'HouseYear']\n",
    "\n",
    "        #Если год постройки > текущего то подберем год по этажности    \n",
    "        index_to_do = df[df['HouseYear'] > current_year].index\n",
    "        for idx in index_to_do:\n",
    "            df.loc[idx, 'HouseYear'] = Median_year.loc[df.loc[idx, 'HouseFloor'], 'HouseYear']\n",
    "        \n",
    "    def fixed_Square(self, df):\n",
    "        # Корректируем площадь квартиры\n",
    "        \n",
    "        # Корректируем площадь кухни\n",
    "        median_square = df.groupby('Rooms')[['Square', 'LifeSquare', 'KitchenSquare']].median()\n",
    "        # Если площадь кухни больше 100 кв. м \n",
    "        # или площадь кухни больше площади дома\n",
    "        # или площадь кухни менее 4 кв. м.\n",
    "        # заполняем площадь кухни медианой\n",
    "        \n",
    "        for idx, row in df.iterrows():\n",
    "            if (row.KitchenSquare > 100 or row.KitchenSquare > row.Square / 2 or row.KitchenSquare < 4):\n",
    "                df.loc[idx, 'KitchenSquare'] =  median_square.loc[row.Rooms].KitchenSquare\n",
    "\n",
    "        # Коректируем прочую площадь и если она отрицательная, то исправляем жилую площадь\n",
    "        df['OtherSquare'] = df.Square - df.LifeSquare - df.KitchenSquare\n",
    "\n",
    "        # Исправляем жилую площадь\n",
    "        # Если LifeSquare маленькая или OtherSquare меньше 0\n",
    "        for idx, row in df.iterrows():\n",
    "            if (row.OtherSquare < 0) or ((row.LifeSquare / row.Rooms) < 10):\n",
    "                df.loc[idx, 'LifeSquare'] = row.Square - row.KitchenSquare\n",
    "\n",
    "        # Исправляем прочую площадь\n",
    "        df['OtherSquare'] = df.Square - df.LifeSquare - df.KitchenSquare\n",
    "        df.loc[df['OtherSquare'] == 0, 'OtherSquare'] = self.medians['OtherSquare']\n",
    "      \n",
    "    def add_features(self, df):\n",
    "        # Прочая площадь\n",
    "        df['OtherSquare'] = df.Square - df.KitchenSquare - df.LifeSquare\n",
    "        # Средняя площадь комнаты\n",
    "        df['MeanSquareRoom'] = df.Square/df.Rooms\n",
    "        df.loc[df['MeanSquareRoom'] > 500, 'MeanSquareRoom'] = df.loc[df['MeanSquareRoom'] > 500, 'Square']\n",
    "        \n",
    "        return df\n",
    "    \n",
    "    def fix_rooms(self, df):\n",
    "        # Определяем медианы площадей\n",
    "        median_square = df.groupby('Rooms')[['Square', 'MeanSquareRoom']].median()    \n",
    "\n",
    "        # Производим подбор количества комнат\n",
    "        for idx, row in df.iterrows():\n",
    "\n",
    "            # Если комнат комнаты есть и площадь комнат >= 10 м\n",
    "            if row.MeanRoomSquare >= 10: \n",
    "                continue\n",
    "            # Если площадь комнаты менее 50 м в квартире одна комната\n",
    "            if row.Square < 50:\n",
    "                df.loc[idx, 'Rooms'] = 1          \n",
    "                continue\n",
    "            rooms_count = 0      \n",
    "            for index_square, row_square in median_square.iterrows():\n",
    "                # Площадь комнаты больше медианной площади \n",
    "                # число комнат меньше медианной выборки\n",
    "                if row.Square >= row_square.Square and rooms_count < index_square:\n",
    "                    rooms_count = index_square\n",
    "                    # Определяем число комнат как медиану\n",
    "\n",
    "            if rooms_count > 0:\n",
    "                df.loc[idx, 'Rooms'] = rooms_count\n",
    "                print(f\"Стало Rooms: {rooms_count}, Square {row.Square}\")\n",
    "            else:\n",
    "                df.loc[idx, 'Rooms'] = round(row.Square / 23)\n",
    "                print(f\"Стало Rooms: {round(row.Square / 23)}, Square {row.Square}\")\n",
    "\n",
    "        # Исправим MeanSquareRoom\n",
    "        df['MeanSquareRoom'] = df.Square / df.Rooms\n",
    "        df.loc[df['MeanSquareRoom'] > 500, 'MeanSquareRoom'] = df.loc[df['MeanSquareRoom'] > 500, 'Square']\n",
    "    \n",
    "    def transform(self, df):\n",
    "        \"\"\"Трансформация данных\"\"\"\n",
    "\n",
    "        # Rooms\n",
    "        df['Rooms_outlier'] = 0\n",
    "        df.loc[(df['Rooms'] == 0) | (df['Rooms'] >= 6), 'Rooms_outlier'] = 1\n",
    "        \n",
    "        df.loc[df['Rooms'] == 0, 'Rooms'] = 1\n",
    "        df.loc[df['Rooms'] >= 6, 'Rooms'] = self.medians['Rooms']\n",
    "        \n",
    "        # Square\n",
    "        # Корректируем площадь\n",
    "        self.fixed_Square(df)\n",
    "     \n",
    "\n",
    "        df.loc[df['KitchenSquare'] < 3, 'KitchenSquare'] = 3\n",
    "        # HouseFloor, Floor\n",
    "        df['HouseFloor_outlier'] = 0\n",
    "        df.loc[df['HouseFloor'] == 0, 'HouseFloor_outlier'] = 1\n",
    "        \n",
    "        df.loc[df['Floor'] > df['HouseFloor'], 'HouseFloor_outlier'] = 1\n",
    "        \n",
    "        floor_outliers = df.loc[df['Floor'] > df['HouseFloor']].index\n",
    "        \n",
    "        df.loc[df['HouseFloor'] == 0, 'HouseFloor'] = self.medians['HouseFloor']\n",
    "        \n",
    "        #floor_outliers = df.loc[df['Floor'] > df['HouseFloor']].index\n",
    "        #df.loc[floor_outliers, 'Floor'] = df.loc[floor_outliers, 'HouseFloor'].apply(lambda x: random.randint(1, x))\n",
    "        #self.fixed_Floor(df)\n",
    "        \n",
    "        # HouseYear\n",
    "        current_year = datetime.now().year\n",
    "        \n",
    "        df['HouseYear_outlier'] = 0\n",
    "        df.loc[df['HouseYear'] > current_year, 'HouseYear_outlier'] = 1\n",
    "        \n",
    "        df.loc[df['HouseYear'] > current_year, 'HouseYear'] = current_year\n",
    "        \n",
    "        # Healthcare_1\n",
    "        # В районах где не было Healthcare_1 заполним его средним по району\n",
    "        self.fixed_Healthcare_1(X)\n",
    "        \n",
    "        df.fillna(self.medians, inplace=True)\n",
    "        \n",
    "        return df"
   ]
  },
  {
   "cell_type": "markdown",
   "metadata": {
    "id": "R0HSaFNaf0Mj",
    "papermill": {
     "duration": 0.077607,
     "end_time": "2020-12-23T14:55:49.857558",
     "exception": false,
     "start_time": "2020-12-23T14:55:49.779951",
     "status": "completed"
    },
    "tags": []
   },
   "source": [
    "### 4. Построение новых признаков  <a class='anchor' id='feature'>"
   ]
  },
  {
   "cell_type": "markdown",
   "metadata": {
    "id": "vlw7pLSCf0Mj",
    "papermill": {
     "duration": 0.078853,
     "end_time": "2020-12-23T14:55:50.015485",
     "exception": false,
     "start_time": "2020-12-23T14:55:49.936632",
     "status": "completed"
    },
    "tags": []
   },
   "source": [
    "**Dummies**"
   ]
  },
  {
   "cell_type": "code",
   "execution_count": 40,
   "metadata": {
    "execution": {
     "iopub.execute_input": "2020-12-23T14:55:50.197762Z",
     "iopub.status.busy": "2020-12-23T14:55:50.197091Z",
     "iopub.status.idle": "2020-12-23T14:55:50.206032Z",
     "shell.execute_reply": "2020-12-23T14:55:50.205391Z"
    },
    "id": "4jvEjhHWf0Mk",
    "papermill": {
     "duration": 0.112111,
     "end_time": "2020-12-23T14:55:50.206145",
     "exception": false,
     "start_time": "2020-12-23T14:55:50.094034",
     "status": "completed"
    },
    "tags": []
   },
   "outputs": [],
   "source": [
    "binary_to_numbers = {'A': 0, 'B': 1}\n",
    "\n",
    "train_df['Ecology_2'] = train_df['Ecology_2'].replace(binary_to_numbers)\n",
    "train_df['Ecology_3'] = train_df['Ecology_3'].replace(binary_to_numbers)\n",
    "train_df['Shops_2'] = train_df['Shops_2'].replace(binary_to_numbers)"
   ]
  },
  {
   "cell_type": "markdown",
   "metadata": {
    "id": "nQKJS3BNf0Mk",
    "papermill": {
     "duration": 0.076642,
     "end_time": "2020-12-23T14:55:50.360217",
     "exception": false,
     "start_time": "2020-12-23T14:55:50.283575",
     "status": "completed"
    },
    "tags": []
   },
   "source": [
    "**DistrictSize, IsDistrictLarge**"
   ]
  },
  {
   "cell_type": "code",
   "execution_count": 41,
   "metadata": {
    "colab": {
     "base_uri": "https://localhost:8080/",
     "height": 206
    },
    "execution": {
     "iopub.execute_input": "2020-12-23T14:55:50.530126Z",
     "iopub.status.busy": "2020-12-23T14:55:50.526576Z",
     "iopub.status.idle": "2020-12-23T14:55:50.535225Z",
     "shell.execute_reply": "2020-12-23T14:55:50.534517Z"
    },
    "id": "Ga5Yu_haf0Mk",
    "outputId": "f42a9d01-bf21-4655-f163-ecfe6a223bd8",
    "papermill": {
     "duration": 0.09775,
     "end_time": "2020-12-23T14:55:50.535350",
     "exception": false,
     "start_time": "2020-12-23T14:55:50.437600",
     "status": "completed"
    },
    "tags": []
   },
   "outputs": [
    {
     "data": {
      "text/html": [
       "<div>\n",
       "<style scoped>\n",
       "    .dataframe tbody tr th:only-of-type {\n",
       "        vertical-align: middle;\n",
       "    }\n",
       "\n",
       "    .dataframe tbody tr th {\n",
       "        vertical-align: top;\n",
       "    }\n",
       "\n",
       "    .dataframe thead th {\n",
       "        text-align: right;\n",
       "    }\n",
       "</style>\n",
       "<table border=\"1\" class=\"dataframe\">\n",
       "  <thead>\n",
       "    <tr style=\"text-align: right;\">\n",
       "      <th></th>\n",
       "      <th>DistrictId</th>\n",
       "      <th>DistrictSize</th>\n",
       "    </tr>\n",
       "  </thead>\n",
       "  <tbody>\n",
       "    <tr>\n",
       "      <th>0</th>\n",
       "      <td>27</td>\n",
       "      <td>847</td>\n",
       "    </tr>\n",
       "    <tr>\n",
       "      <th>1</th>\n",
       "      <td>1</td>\n",
       "      <td>650</td>\n",
       "    </tr>\n",
       "    <tr>\n",
       "      <th>2</th>\n",
       "      <td>23</td>\n",
       "      <td>565</td>\n",
       "    </tr>\n",
       "    <tr>\n",
       "      <th>3</th>\n",
       "      <td>6</td>\n",
       "      <td>510</td>\n",
       "    </tr>\n",
       "    <tr>\n",
       "      <th>4</th>\n",
       "      <td>9</td>\n",
       "      <td>293</td>\n",
       "    </tr>\n",
       "  </tbody>\n",
       "</table>\n",
       "</div>"
      ],
      "text/plain": [
       "  DistrictId  DistrictSize\n",
       "0         27           847\n",
       "1          1           650\n",
       "2         23           565\n",
       "3          6           510\n",
       "4          9           293"
      ]
     },
     "execution_count": 41,
     "metadata": {},
     "output_type": "execute_result"
    }
   ],
   "source": [
    "district_size = train_df['DistrictId'].value_counts().reset_index()\\\n",
    "                    .rename(columns={'index':'DistrictId', 'DistrictId':'DistrictSize'})\n",
    "\n",
    "district_size.head()"
   ]
  },
  {
   "cell_type": "code",
   "execution_count": 42,
   "metadata": {
    "colab": {
     "base_uri": "https://localhost:8080/",
     "height": 270
    },
    "execution": {
     "iopub.execute_input": "2020-12-23T14:55:50.704496Z",
     "iopub.status.busy": "2020-12-23T14:55:50.703707Z",
     "iopub.status.idle": "2020-12-23T14:55:50.743498Z",
     "shell.execute_reply": "2020-12-23T14:55:50.742639Z"
    },
    "id": "x8aO3h9wf0Ml",
    "outputId": "5d9ccad1-2ec1-4b47-a6d7-b633c9983e28",
    "papermill": {
     "duration": 0.130137,
     "end_time": "2020-12-23T14:55:50.743664",
     "exception": false,
     "start_time": "2020-12-23T14:55:50.613527",
     "status": "completed"
    },
    "tags": []
   },
   "outputs": [
    {
     "data": {
      "text/html": [
       "<div>\n",
       "<style scoped>\n",
       "    .dataframe tbody tr th:only-of-type {\n",
       "        vertical-align: middle;\n",
       "    }\n",
       "\n",
       "    .dataframe tbody tr th {\n",
       "        vertical-align: top;\n",
       "    }\n",
       "\n",
       "    .dataframe thead th {\n",
       "        text-align: right;\n",
       "    }\n",
       "</style>\n",
       "<table border=\"1\" class=\"dataframe\">\n",
       "  <thead>\n",
       "    <tr style=\"text-align: right;\">\n",
       "      <th></th>\n",
       "      <th>Id</th>\n",
       "      <th>DistrictId</th>\n",
       "      <th>Rooms</th>\n",
       "      <th>Square</th>\n",
       "      <th>LifeSquare</th>\n",
       "      <th>KitchenSquare</th>\n",
       "      <th>Floor</th>\n",
       "      <th>HouseFloor</th>\n",
       "      <th>HouseYear</th>\n",
       "      <th>Ecology_1</th>\n",
       "      <th>...</th>\n",
       "      <th>Social_2</th>\n",
       "      <th>Social_3</th>\n",
       "      <th>Healthcare_1</th>\n",
       "      <th>Helthcare_2</th>\n",
       "      <th>Shops_1</th>\n",
       "      <th>Shops_2</th>\n",
       "      <th>Price</th>\n",
       "      <th>Rooms_outlier</th>\n",
       "      <th>HouseFloor_outlier</th>\n",
       "      <th>DistrictSize</th>\n",
       "    </tr>\n",
       "  </thead>\n",
       "  <tbody>\n",
       "    <tr>\n",
       "      <th>0</th>\n",
       "      <td>11809</td>\n",
       "      <td>27</td>\n",
       "      <td>3.0</td>\n",
       "      <td>115.027311</td>\n",
       "      <td>102.027311</td>\n",
       "      <td>10.0</td>\n",
       "      <td>4</td>\n",
       "      <td>10.0</td>\n",
       "      <td>2014</td>\n",
       "      <td>0.075424</td>\n",
       "      <td>...</td>\n",
       "      <td>3097</td>\n",
       "      <td>0</td>\n",
       "      <td>NaN</td>\n",
       "      <td>0</td>\n",
       "      <td>0</td>\n",
       "      <td>1</td>\n",
       "      <td>305018.871089</td>\n",
       "      <td>0</td>\n",
       "      <td>0</td>\n",
       "      <td>847</td>\n",
       "    </tr>\n",
       "    <tr>\n",
       "      <th>1</th>\n",
       "      <td>3013</td>\n",
       "      <td>22</td>\n",
       "      <td>1.0</td>\n",
       "      <td>39.832524</td>\n",
       "      <td>23.169223</td>\n",
       "      <td>8.0</td>\n",
       "      <td>7</td>\n",
       "      <td>8.0</td>\n",
       "      <td>1966</td>\n",
       "      <td>0.118537</td>\n",
       "      <td>...</td>\n",
       "      <td>6207</td>\n",
       "      <td>1</td>\n",
       "      <td>1183.0</td>\n",
       "      <td>1</td>\n",
       "      <td>0</td>\n",
       "      <td>1</td>\n",
       "      <td>177734.553407</td>\n",
       "      <td>0</td>\n",
       "      <td>0</td>\n",
       "      <td>78</td>\n",
       "    </tr>\n",
       "    <tr>\n",
       "      <th>2</th>\n",
       "      <td>8215</td>\n",
       "      <td>1</td>\n",
       "      <td>3.0</td>\n",
       "      <td>78.342215</td>\n",
       "      <td>47.671972</td>\n",
       "      <td>10.0</td>\n",
       "      <td>2</td>\n",
       "      <td>17.0</td>\n",
       "      <td>1988</td>\n",
       "      <td>0.025609</td>\n",
       "      <td>...</td>\n",
       "      <td>5261</td>\n",
       "      <td>0</td>\n",
       "      <td>240.0</td>\n",
       "      <td>3</td>\n",
       "      <td>1</td>\n",
       "      <td>1</td>\n",
       "      <td>282078.720850</td>\n",
       "      <td>0</td>\n",
       "      <td>0</td>\n",
       "      <td>650</td>\n",
       "    </tr>\n",
       "    <tr>\n",
       "      <th>3</th>\n",
       "      <td>2352</td>\n",
       "      <td>1</td>\n",
       "      <td>1.0</td>\n",
       "      <td>40.409907</td>\n",
       "      <td>34.409907</td>\n",
       "      <td>3.0</td>\n",
       "      <td>10</td>\n",
       "      <td>22.0</td>\n",
       "      <td>1977</td>\n",
       "      <td>0.007122</td>\n",
       "      <td>...</td>\n",
       "      <td>264</td>\n",
       "      <td>0</td>\n",
       "      <td>NaN</td>\n",
       "      <td>0</td>\n",
       "      <td>1</td>\n",
       "      <td>1</td>\n",
       "      <td>168106.007630</td>\n",
       "      <td>0</td>\n",
       "      <td>0</td>\n",
       "      <td>650</td>\n",
       "    </tr>\n",
       "    <tr>\n",
       "      <th>4</th>\n",
       "      <td>13866</td>\n",
       "      <td>94</td>\n",
       "      <td>2.0</td>\n",
       "      <td>64.285067</td>\n",
       "      <td>38.562517</td>\n",
       "      <td>9.0</td>\n",
       "      <td>16</td>\n",
       "      <td>16.0</td>\n",
       "      <td>1972</td>\n",
       "      <td>0.282798</td>\n",
       "      <td>...</td>\n",
       "      <td>8667</td>\n",
       "      <td>2</td>\n",
       "      <td>NaN</td>\n",
       "      <td>0</td>\n",
       "      <td>6</td>\n",
       "      <td>1</td>\n",
       "      <td>343995.102962</td>\n",
       "      <td>0</td>\n",
       "      <td>0</td>\n",
       "      <td>89</td>\n",
       "    </tr>\n",
       "  </tbody>\n",
       "</table>\n",
       "<p>5 rows × 23 columns</p>\n",
       "</div>"
      ],
      "text/plain": [
       "      Id DistrictId  Rooms      Square  LifeSquare  KitchenSquare  Floor  \\\n",
       "0  11809         27    3.0  115.027311  102.027311           10.0      4   \n",
       "1   3013         22    1.0   39.832524   23.169223            8.0      7   \n",
       "2   8215          1    3.0   78.342215   47.671972           10.0      2   \n",
       "3   2352          1    1.0   40.409907   34.409907            3.0     10   \n",
       "4  13866         94    2.0   64.285067   38.562517            9.0     16   \n",
       "\n",
       "   HouseFloor  HouseYear  Ecology_1  ...  Social_2  Social_3  Healthcare_1  \\\n",
       "0        10.0       2014   0.075424  ...      3097         0           NaN   \n",
       "1         8.0       1966   0.118537  ...      6207         1        1183.0   \n",
       "2        17.0       1988   0.025609  ...      5261         0         240.0   \n",
       "3        22.0       1977   0.007122  ...       264         0           NaN   \n",
       "4        16.0       1972   0.282798  ...      8667         2           NaN   \n",
       "\n",
       "   Helthcare_2  Shops_1  Shops_2          Price  Rooms_outlier  \\\n",
       "0            0        0        1  305018.871089              0   \n",
       "1            1        0        1  177734.553407              0   \n",
       "2            3        1        1  282078.720850              0   \n",
       "3            0        1        1  168106.007630              0   \n",
       "4            0        6        1  343995.102962              0   \n",
       "\n",
       "   HouseFloor_outlier  DistrictSize  \n",
       "0                   0           847  \n",
       "1                   0            78  \n",
       "2                   0           650  \n",
       "3                   0           650  \n",
       "4                   0            89  \n",
       "\n",
       "[5 rows x 23 columns]"
      ]
     },
     "execution_count": 42,
     "metadata": {},
     "output_type": "execute_result"
    }
   ],
   "source": [
    "train_df = train_df.merge(district_size, on='DistrictId', how='left')\n",
    "train_df.head()"
   ]
  },
  {
   "cell_type": "code",
   "execution_count": 43,
   "metadata": {
    "colab": {
     "base_uri": "https://localhost:8080/"
    },
    "execution": {
     "iopub.execute_input": "2020-12-23T14:55:50.917937Z",
     "iopub.status.busy": "2020-12-23T14:55:50.917204Z",
     "iopub.status.idle": "2020-12-23T14:55:50.927737Z",
     "shell.execute_reply": "2020-12-23T14:55:50.927134Z"
    },
    "id": "jOFEjELQf0Mm",
    "outputId": "5243a6f7-95f8-4aa2-cf68-d2e5089751e1",
    "papermill": {
     "duration": 0.097278,
     "end_time": "2020-12-23T14:55:50.927890",
     "exception": false,
     "start_time": "2020-12-23T14:55:50.830612",
     "status": "completed"
    },
    "tags": []
   },
   "outputs": [
    {
     "data": {
      "text/plain": [
       "True     5058\n",
       "False    4927\n",
       "Name: DistrictSize, dtype: int64"
      ]
     },
     "execution_count": 43,
     "metadata": {},
     "output_type": "execute_result"
    }
   ],
   "source": [
    "(train_df['DistrictSize'] > 100).value_counts()"
   ]
  },
  {
   "cell_type": "code",
   "execution_count": 44,
   "metadata": {
    "execution": {
     "iopub.execute_input": "2020-12-23T14:55:51.095503Z",
     "iopub.status.busy": "2020-12-23T14:55:51.094849Z",
     "iopub.status.idle": "2020-12-23T14:55:51.097993Z",
     "shell.execute_reply": "2020-12-23T14:55:51.098473Z"
    },
    "id": "VgWFY8SMf0Mm",
    "papermill": {
     "duration": 0.090326,
     "end_time": "2020-12-23T14:55:51.098630",
     "exception": false,
     "start_time": "2020-12-23T14:55:51.008304",
     "status": "completed"
    },
    "tags": []
   },
   "outputs": [],
   "source": [
    "train_df['IsDistrictLarge'] = (train_df['DistrictSize'] > 100).astype(int)"
   ]
  },
  {
   "cell_type": "markdown",
   "metadata": {
    "id": "oVktAJa4f0Mm",
    "papermill": {
     "duration": 0.079945,
     "end_time": "2020-12-23T14:55:51.257834",
     "exception": false,
     "start_time": "2020-12-23T14:55:51.177889",
     "status": "completed"
    },
    "tags": []
   },
   "source": [
    "**MedPriceByDistrict**"
   ]
  },
  {
   "cell_type": "code",
   "execution_count": 45,
   "metadata": {
    "colab": {
     "base_uri": "https://localhost:8080/",
     "height": 206
    },
    "execution": {
     "iopub.execute_input": "2020-12-23T14:55:51.420088Z",
     "iopub.status.busy": "2020-12-23T14:55:51.419392Z",
     "iopub.status.idle": "2020-12-23T14:55:51.444173Z",
     "shell.execute_reply": "2020-12-23T14:55:51.443489Z"
    },
    "id": "mOuUpo4Hf0Mn",
    "outputId": "b4fb322d-6ed8-4f93-c73d-bd3c07add1bc",
    "papermill": {
     "duration": 0.107085,
     "end_time": "2020-12-23T14:55:51.444283",
     "exception": false,
     "start_time": "2020-12-23T14:55:51.337198",
     "status": "completed"
    },
    "tags": []
   },
   "outputs": [
    {
     "data": {
      "text/html": [
       "<div>\n",
       "<style scoped>\n",
       "    .dataframe tbody tr th:only-of-type {\n",
       "        vertical-align: middle;\n",
       "    }\n",
       "\n",
       "    .dataframe tbody tr th {\n",
       "        vertical-align: top;\n",
       "    }\n",
       "\n",
       "    .dataframe thead th {\n",
       "        text-align: right;\n",
       "    }\n",
       "</style>\n",
       "<table border=\"1\" class=\"dataframe\">\n",
       "  <thead>\n",
       "    <tr style=\"text-align: right;\">\n",
       "      <th></th>\n",
       "      <th>DistrictId</th>\n",
       "      <th>MedPriceByDistrict</th>\n",
       "    </tr>\n",
       "  </thead>\n",
       "  <tbody>\n",
       "    <tr>\n",
       "      <th>0</th>\n",
       "      <td>0</td>\n",
       "      <td>165963.054142</td>\n",
       "    </tr>\n",
       "    <tr>\n",
       "      <th>1</th>\n",
       "      <td>1</td>\n",
       "      <td>183663.443595</td>\n",
       "    </tr>\n",
       "    <tr>\n",
       "      <th>2</th>\n",
       "      <td>10</td>\n",
       "      <td>217749.656911</td>\n",
       "    </tr>\n",
       "    <tr>\n",
       "      <th>3</th>\n",
       "      <td>100</td>\n",
       "      <td>234032.836228</td>\n",
       "    </tr>\n",
       "    <tr>\n",
       "      <th>4</th>\n",
       "      <td>101</td>\n",
       "      <td>184276.502773</td>\n",
       "    </tr>\n",
       "  </tbody>\n",
       "</table>\n",
       "</div>"
      ],
      "text/plain": [
       "  DistrictId  MedPriceByDistrict\n",
       "0          0       165963.054142\n",
       "1          1       183663.443595\n",
       "2         10       217749.656911\n",
       "3        100       234032.836228\n",
       "4        101       184276.502773"
      ]
     },
     "execution_count": 45,
     "metadata": {},
     "output_type": "execute_result"
    }
   ],
   "source": [
    "med_price_by_district = train_df.groupby(['DistrictId'], as_index=False).agg({'Price':'median'})\\\n",
    "                            .rename(columns={'Price':'MedPriceByDistrict'})\n",
    "\n",
    "med_price_by_district.head()"
   ]
  },
  {
   "cell_type": "code",
   "execution_count": 46,
   "metadata": {
    "colab": {
     "base_uri": "https://localhost:8080/",
     "height": 270
    },
    "execution": {
     "iopub.execute_input": "2020-12-23T14:55:51.620776Z",
     "iopub.status.busy": "2020-12-23T14:55:51.620088Z",
     "iopub.status.idle": "2020-12-23T14:55:51.656624Z",
     "shell.execute_reply": "2020-12-23T14:55:51.655930Z"
    },
    "id": "dGJ9EQc2f0Mn",
    "outputId": "956661b1-9274-47f4-9e8e-23ee258f67de",
    "papermill": {
     "duration": 0.132739,
     "end_time": "2020-12-23T14:55:51.656738",
     "exception": false,
     "start_time": "2020-12-23T14:55:51.523999",
     "status": "completed"
    },
    "tags": []
   },
   "outputs": [
    {
     "data": {
      "text/html": [
       "<div>\n",
       "<style scoped>\n",
       "    .dataframe tbody tr th:only-of-type {\n",
       "        vertical-align: middle;\n",
       "    }\n",
       "\n",
       "    .dataframe tbody tr th {\n",
       "        vertical-align: top;\n",
       "    }\n",
       "\n",
       "    .dataframe thead th {\n",
       "        text-align: right;\n",
       "    }\n",
       "</style>\n",
       "<table border=\"1\" class=\"dataframe\">\n",
       "  <thead>\n",
       "    <tr style=\"text-align: right;\">\n",
       "      <th></th>\n",
       "      <th>Id</th>\n",
       "      <th>DistrictId</th>\n",
       "      <th>Rooms</th>\n",
       "      <th>Square</th>\n",
       "      <th>LifeSquare</th>\n",
       "      <th>KitchenSquare</th>\n",
       "      <th>Floor</th>\n",
       "      <th>HouseFloor</th>\n",
       "      <th>HouseYear</th>\n",
       "      <th>Ecology_1</th>\n",
       "      <th>...</th>\n",
       "      <th>Healthcare_1</th>\n",
       "      <th>Helthcare_2</th>\n",
       "      <th>Shops_1</th>\n",
       "      <th>Shops_2</th>\n",
       "      <th>Price</th>\n",
       "      <th>Rooms_outlier</th>\n",
       "      <th>HouseFloor_outlier</th>\n",
       "      <th>DistrictSize</th>\n",
       "      <th>IsDistrictLarge</th>\n",
       "      <th>MedPriceByDistrict</th>\n",
       "    </tr>\n",
       "  </thead>\n",
       "  <tbody>\n",
       "    <tr>\n",
       "      <th>0</th>\n",
       "      <td>11809</td>\n",
       "      <td>27</td>\n",
       "      <td>3.0</td>\n",
       "      <td>115.027311</td>\n",
       "      <td>102.027311</td>\n",
       "      <td>10.0</td>\n",
       "      <td>4</td>\n",
       "      <td>10.0</td>\n",
       "      <td>2014</td>\n",
       "      <td>0.075424</td>\n",
       "      <td>...</td>\n",
       "      <td>NaN</td>\n",
       "      <td>0</td>\n",
       "      <td>0</td>\n",
       "      <td>1</td>\n",
       "      <td>305018.871089</td>\n",
       "      <td>0</td>\n",
       "      <td>0</td>\n",
       "      <td>847</td>\n",
       "      <td>1</td>\n",
       "      <td>146247.605596</td>\n",
       "    </tr>\n",
       "    <tr>\n",
       "      <th>1</th>\n",
       "      <td>3013</td>\n",
       "      <td>22</td>\n",
       "      <td>1.0</td>\n",
       "      <td>39.832524</td>\n",
       "      <td>23.169223</td>\n",
       "      <td>8.0</td>\n",
       "      <td>7</td>\n",
       "      <td>8.0</td>\n",
       "      <td>1966</td>\n",
       "      <td>0.118537</td>\n",
       "      <td>...</td>\n",
       "      <td>1183.0</td>\n",
       "      <td>1</td>\n",
       "      <td>0</td>\n",
       "      <td>1</td>\n",
       "      <td>177734.553407</td>\n",
       "      <td>0</td>\n",
       "      <td>0</td>\n",
       "      <td>78</td>\n",
       "      <td>0</td>\n",
       "      <td>183678.134031</td>\n",
       "    </tr>\n",
       "    <tr>\n",
       "      <th>2</th>\n",
       "      <td>8215</td>\n",
       "      <td>1</td>\n",
       "      <td>3.0</td>\n",
       "      <td>78.342215</td>\n",
       "      <td>47.671972</td>\n",
       "      <td>10.0</td>\n",
       "      <td>2</td>\n",
       "      <td>17.0</td>\n",
       "      <td>1988</td>\n",
       "      <td>0.025609</td>\n",
       "      <td>...</td>\n",
       "      <td>240.0</td>\n",
       "      <td>3</td>\n",
       "      <td>1</td>\n",
       "      <td>1</td>\n",
       "      <td>282078.720850</td>\n",
       "      <td>0</td>\n",
       "      <td>0</td>\n",
       "      <td>650</td>\n",
       "      <td>1</td>\n",
       "      <td>183663.443595</td>\n",
       "    </tr>\n",
       "    <tr>\n",
       "      <th>3</th>\n",
       "      <td>2352</td>\n",
       "      <td>1</td>\n",
       "      <td>1.0</td>\n",
       "      <td>40.409907</td>\n",
       "      <td>34.409907</td>\n",
       "      <td>3.0</td>\n",
       "      <td>10</td>\n",
       "      <td>22.0</td>\n",
       "      <td>1977</td>\n",
       "      <td>0.007122</td>\n",
       "      <td>...</td>\n",
       "      <td>NaN</td>\n",
       "      <td>0</td>\n",
       "      <td>1</td>\n",
       "      <td>1</td>\n",
       "      <td>168106.007630</td>\n",
       "      <td>0</td>\n",
       "      <td>0</td>\n",
       "      <td>650</td>\n",
       "      <td>1</td>\n",
       "      <td>183663.443595</td>\n",
       "    </tr>\n",
       "    <tr>\n",
       "      <th>4</th>\n",
       "      <td>13866</td>\n",
       "      <td>94</td>\n",
       "      <td>2.0</td>\n",
       "      <td>64.285067</td>\n",
       "      <td>38.562517</td>\n",
       "      <td>9.0</td>\n",
       "      <td>16</td>\n",
       "      <td>16.0</td>\n",
       "      <td>1972</td>\n",
       "      <td>0.282798</td>\n",
       "      <td>...</td>\n",
       "      <td>NaN</td>\n",
       "      <td>0</td>\n",
       "      <td>6</td>\n",
       "      <td>1</td>\n",
       "      <td>343995.102962</td>\n",
       "      <td>0</td>\n",
       "      <td>0</td>\n",
       "      <td>89</td>\n",
       "      <td>0</td>\n",
       "      <td>181706.718894</td>\n",
       "    </tr>\n",
       "  </tbody>\n",
       "</table>\n",
       "<p>5 rows × 25 columns</p>\n",
       "</div>"
      ],
      "text/plain": [
       "      Id DistrictId  Rooms      Square  LifeSquare  KitchenSquare  Floor  \\\n",
       "0  11809         27    3.0  115.027311  102.027311           10.0      4   \n",
       "1   3013         22    1.0   39.832524   23.169223            8.0      7   \n",
       "2   8215          1    3.0   78.342215   47.671972           10.0      2   \n",
       "3   2352          1    1.0   40.409907   34.409907            3.0     10   \n",
       "4  13866         94    2.0   64.285067   38.562517            9.0     16   \n",
       "\n",
       "   HouseFloor  HouseYear  Ecology_1  ...  Healthcare_1  Helthcare_2  Shops_1  \\\n",
       "0        10.0       2014   0.075424  ...           NaN            0        0   \n",
       "1         8.0       1966   0.118537  ...        1183.0            1        0   \n",
       "2        17.0       1988   0.025609  ...         240.0            3        1   \n",
       "3        22.0       1977   0.007122  ...           NaN            0        1   \n",
       "4        16.0       1972   0.282798  ...           NaN            0        6   \n",
       "\n",
       "   Shops_2          Price  Rooms_outlier  HouseFloor_outlier  DistrictSize  \\\n",
       "0        1  305018.871089              0                   0           847   \n",
       "1        1  177734.553407              0                   0            78   \n",
       "2        1  282078.720850              0                   0           650   \n",
       "3        1  168106.007630              0                   0           650   \n",
       "4        1  343995.102962              0                   0            89   \n",
       "\n",
       "   IsDistrictLarge  MedPriceByDistrict  \n",
       "0                1       146247.605596  \n",
       "1                0       183678.134031  \n",
       "2                1       183663.443595  \n",
       "3                1       183663.443595  \n",
       "4                0       181706.718894  \n",
       "\n",
       "[5 rows x 25 columns]"
      ]
     },
     "execution_count": 46,
     "metadata": {},
     "output_type": "execute_result"
    }
   ],
   "source": [
    "train_df = train_df.merge(med_price_by_district, on=['DistrictId'], how='left')\n",
    "train_df.head()"
   ]
  },
  {
   "cell_type": "markdown",
   "metadata": {
    "id": "1TPLTUeOf0Mo",
    "papermill": {
     "duration": 0.080964,
     "end_time": "2020-12-23T14:55:51.820312",
     "exception": false,
     "start_time": "2020-12-23T14:55:51.739348",
     "status": "completed"
    },
    "tags": []
   },
   "source": [
    "**MedPriceByFloorYear**"
   ]
  },
  {
   "cell_type": "code",
   "execution_count": 47,
   "metadata": {
    "execution": {
     "iopub.execute_input": "2020-12-23T14:55:52.004912Z",
     "iopub.status.busy": "2020-12-23T14:55:51.993895Z",
     "iopub.status.idle": "2020-12-23T14:55:52.008024Z",
     "shell.execute_reply": "2020-12-23T14:55:52.007464Z"
    },
    "id": "zjVrKRXVf0Mo",
    "papermill": {
     "duration": 0.106008,
     "end_time": "2020-12-23T14:55:52.008138",
     "exception": false,
     "start_time": "2020-12-23T14:55:51.902130",
     "status": "completed"
    },
    "tags": []
   },
   "outputs": [],
   "source": [
    "def floor_to_cat(X):\n",
    "    bins = [X['Floor'].min(), 3, 5, 9, 15, X['Floor'].max()]\n",
    "    X['floor_cat'] = pd.cut(X['Floor'], bins=bins, labels=False)\n",
    "    \n",
    "    X['floor_cat'].fillna(-1, inplace=True)\n",
    "    return X\n",
    "\n",
    "def year_to_cat(X):\n",
    "    bins = [X['HouseYear'].min(), 1941, 1945, 1980, 2000, 2010, X['HouseYear'].max()]\n",
    "    X['year_cat'] = pd.cut(X['HouseYear'], bins=bins, labels=False)\n",
    "    \n",
    "    X['year_cat'].fillna(-1, inplace=True)\n",
    "    return X"
   ]
  },
  {
   "cell_type": "code",
   "execution_count": 48,
   "metadata": {
    "colab": {
     "base_uri": "https://localhost:8080/"
    },
    "execution": {
     "iopub.execute_input": "2020-12-23T14:55:52.177677Z",
     "iopub.status.busy": "2020-12-23T14:55:52.177010Z",
     "iopub.status.idle": "2020-12-23T14:55:52.184226Z",
     "shell.execute_reply": "2020-12-23T14:55:52.184741Z"
    },
    "id": "c9aoSUWyf0Mp",
    "outputId": "e5a955fe-32bc-4e67-f0d9-37e9d0311b03",
    "papermill": {
     "duration": 0.095053,
     "end_time": "2020-12-23T14:55:52.184905",
     "exception": false,
     "start_time": "2020-12-23T14:55:52.089852",
     "status": "completed"
    },
    "tags": []
   },
   "outputs": [
    {
     "data": {
      "text/plain": [
       "0       1\n",
       "1       2\n",
       "2       0\n",
       "3       3\n",
       "4       4\n",
       "       ..\n",
       "9980    0\n",
       "9981    3\n",
       "9982    0\n",
       "9983    0\n",
       "9984    2\n",
       "Name: Floor, Length: 9985, dtype: int64"
      ]
     },
     "execution_count": 48,
     "metadata": {},
     "output_type": "execute_result"
    }
   ],
   "source": [
    "bins = [0, 3, 5, 9, 15, train_df['Floor'].max()]\n",
    "pd.cut(train_df['Floor'], bins=bins, labels=False)"
   ]
  },
  {
   "cell_type": "code",
   "execution_count": 49,
   "metadata": {
    "colab": {
     "base_uri": "https://localhost:8080/"
    },
    "execution": {
     "iopub.execute_input": "2020-12-23T14:55:52.358456Z",
     "iopub.status.busy": "2020-12-23T14:55:52.357750Z",
     "iopub.status.idle": "2020-12-23T14:55:52.374806Z",
     "shell.execute_reply": "2020-12-23T14:55:52.374275Z"
    },
    "id": "Fw5h93kif0Mq",
    "outputId": "3f982df3-27c0-4989-f858-a7e09669a3e9",
    "papermill": {
     "duration": 0.10509,
     "end_time": "2020-12-23T14:55:52.374939",
     "exception": false,
     "start_time": "2020-12-23T14:55:52.269849",
     "status": "completed"
    },
    "tags": []
   },
   "outputs": [
    {
     "data": {
      "text/plain": [
       "0         (3, 5]\n",
       "1         (5, 9]\n",
       "2         (0, 3]\n",
       "3        (9, 15]\n",
       "4       (15, 42]\n",
       "          ...   \n",
       "9980      (0, 3]\n",
       "9981     (9, 15]\n",
       "9982      (0, 3]\n",
       "9983      (0, 3]\n",
       "9984      (5, 9]\n",
       "Name: Floor, Length: 9985, dtype: category\n",
       "Categories (5, interval[int64]): [(0, 3] < (3, 5] < (5, 9] < (9, 15] < (15, 42]]"
      ]
     },
     "execution_count": 49,
     "metadata": {},
     "output_type": "execute_result"
    }
   ],
   "source": [
    "bins = [0, 3, 5, 9, 15, train_df['Floor'].max()]\n",
    "pd.cut(train_df['Floor'], bins=bins)"
   ]
  },
  {
   "cell_type": "code",
   "execution_count": 50,
   "metadata": {
    "colab": {
     "base_uri": "https://localhost:8080/",
     "height": 270
    },
    "execution": {
     "iopub.execute_input": "2020-12-23T14:55:52.546636Z",
     "iopub.status.busy": "2020-12-23T14:55:52.545461Z",
     "iopub.status.idle": "2020-12-23T14:55:52.586543Z",
     "shell.execute_reply": "2020-12-23T14:55:52.586022Z"
    },
    "id": "Yc71JAeuf0Mq",
    "outputId": "a43f58dc-d01a-4333-f674-031f12a05d51",
    "papermill": {
     "duration": 0.129366,
     "end_time": "2020-12-23T14:55:52.586657",
     "exception": false,
     "start_time": "2020-12-23T14:55:52.457291",
     "status": "completed"
    },
    "tags": []
   },
   "outputs": [
    {
     "data": {
      "text/html": [
       "<div>\n",
       "<style scoped>\n",
       "    .dataframe tbody tr th:only-of-type {\n",
       "        vertical-align: middle;\n",
       "    }\n",
       "\n",
       "    .dataframe tbody tr th {\n",
       "        vertical-align: top;\n",
       "    }\n",
       "\n",
       "    .dataframe thead th {\n",
       "        text-align: right;\n",
       "    }\n",
       "</style>\n",
       "<table border=\"1\" class=\"dataframe\">\n",
       "  <thead>\n",
       "    <tr style=\"text-align: right;\">\n",
       "      <th></th>\n",
       "      <th>Id</th>\n",
       "      <th>DistrictId</th>\n",
       "      <th>Rooms</th>\n",
       "      <th>Square</th>\n",
       "      <th>LifeSquare</th>\n",
       "      <th>KitchenSquare</th>\n",
       "      <th>Floor</th>\n",
       "      <th>HouseFloor</th>\n",
       "      <th>HouseYear</th>\n",
       "      <th>Ecology_1</th>\n",
       "      <th>...</th>\n",
       "      <th>Shops_1</th>\n",
       "      <th>Shops_2</th>\n",
       "      <th>Price</th>\n",
       "      <th>Rooms_outlier</th>\n",
       "      <th>HouseFloor_outlier</th>\n",
       "      <th>DistrictSize</th>\n",
       "      <th>IsDistrictLarge</th>\n",
       "      <th>MedPriceByDistrict</th>\n",
       "      <th>year_cat</th>\n",
       "      <th>floor_cat</th>\n",
       "    </tr>\n",
       "  </thead>\n",
       "  <tbody>\n",
       "    <tr>\n",
       "      <th>0</th>\n",
       "      <td>11809</td>\n",
       "      <td>27</td>\n",
       "      <td>3.0</td>\n",
       "      <td>115.027311</td>\n",
       "      <td>102.027311</td>\n",
       "      <td>10.0</td>\n",
       "      <td>4</td>\n",
       "      <td>10.0</td>\n",
       "      <td>2014</td>\n",
       "      <td>0.075424</td>\n",
       "      <td>...</td>\n",
       "      <td>0</td>\n",
       "      <td>1</td>\n",
       "      <td>305018.871089</td>\n",
       "      <td>0</td>\n",
       "      <td>0</td>\n",
       "      <td>847</td>\n",
       "      <td>1</td>\n",
       "      <td>146247.605596</td>\n",
       "      <td>5.0</td>\n",
       "      <td>1.0</td>\n",
       "    </tr>\n",
       "    <tr>\n",
       "      <th>1</th>\n",
       "      <td>3013</td>\n",
       "      <td>22</td>\n",
       "      <td>1.0</td>\n",
       "      <td>39.832524</td>\n",
       "      <td>23.169223</td>\n",
       "      <td>8.0</td>\n",
       "      <td>7</td>\n",
       "      <td>8.0</td>\n",
       "      <td>1966</td>\n",
       "      <td>0.118537</td>\n",
       "      <td>...</td>\n",
       "      <td>0</td>\n",
       "      <td>1</td>\n",
       "      <td>177734.553407</td>\n",
       "      <td>0</td>\n",
       "      <td>0</td>\n",
       "      <td>78</td>\n",
       "      <td>0</td>\n",
       "      <td>183678.134031</td>\n",
       "      <td>2.0</td>\n",
       "      <td>2.0</td>\n",
       "    </tr>\n",
       "    <tr>\n",
       "      <th>2</th>\n",
       "      <td>8215</td>\n",
       "      <td>1</td>\n",
       "      <td>3.0</td>\n",
       "      <td>78.342215</td>\n",
       "      <td>47.671972</td>\n",
       "      <td>10.0</td>\n",
       "      <td>2</td>\n",
       "      <td>17.0</td>\n",
       "      <td>1988</td>\n",
       "      <td>0.025609</td>\n",
       "      <td>...</td>\n",
       "      <td>1</td>\n",
       "      <td>1</td>\n",
       "      <td>282078.720850</td>\n",
       "      <td>0</td>\n",
       "      <td>0</td>\n",
       "      <td>650</td>\n",
       "      <td>1</td>\n",
       "      <td>183663.443595</td>\n",
       "      <td>3.0</td>\n",
       "      <td>0.0</td>\n",
       "    </tr>\n",
       "    <tr>\n",
       "      <th>3</th>\n",
       "      <td>2352</td>\n",
       "      <td>1</td>\n",
       "      <td>1.0</td>\n",
       "      <td>40.409907</td>\n",
       "      <td>34.409907</td>\n",
       "      <td>3.0</td>\n",
       "      <td>10</td>\n",
       "      <td>22.0</td>\n",
       "      <td>1977</td>\n",
       "      <td>0.007122</td>\n",
       "      <td>...</td>\n",
       "      <td>1</td>\n",
       "      <td>1</td>\n",
       "      <td>168106.007630</td>\n",
       "      <td>0</td>\n",
       "      <td>0</td>\n",
       "      <td>650</td>\n",
       "      <td>1</td>\n",
       "      <td>183663.443595</td>\n",
       "      <td>2.0</td>\n",
       "      <td>3.0</td>\n",
       "    </tr>\n",
       "    <tr>\n",
       "      <th>4</th>\n",
       "      <td>13866</td>\n",
       "      <td>94</td>\n",
       "      <td>2.0</td>\n",
       "      <td>64.285067</td>\n",
       "      <td>38.562517</td>\n",
       "      <td>9.0</td>\n",
       "      <td>16</td>\n",
       "      <td>16.0</td>\n",
       "      <td>1972</td>\n",
       "      <td>0.282798</td>\n",
       "      <td>...</td>\n",
       "      <td>6</td>\n",
       "      <td>1</td>\n",
       "      <td>343995.102962</td>\n",
       "      <td>0</td>\n",
       "      <td>0</td>\n",
       "      <td>89</td>\n",
       "      <td>0</td>\n",
       "      <td>181706.718894</td>\n",
       "      <td>2.0</td>\n",
       "      <td>4.0</td>\n",
       "    </tr>\n",
       "  </tbody>\n",
       "</table>\n",
       "<p>5 rows × 27 columns</p>\n",
       "</div>"
      ],
      "text/plain": [
       "      Id DistrictId  Rooms      Square  LifeSquare  KitchenSquare  Floor  \\\n",
       "0  11809         27    3.0  115.027311  102.027311           10.0      4   \n",
       "1   3013         22    1.0   39.832524   23.169223            8.0      7   \n",
       "2   8215          1    3.0   78.342215   47.671972           10.0      2   \n",
       "3   2352          1    1.0   40.409907   34.409907            3.0     10   \n",
       "4  13866         94    2.0   64.285067   38.562517            9.0     16   \n",
       "\n",
       "   HouseFloor  HouseYear  Ecology_1  ...  Shops_1  Shops_2          Price  \\\n",
       "0        10.0       2014   0.075424  ...        0        1  305018.871089   \n",
       "1         8.0       1966   0.118537  ...        0        1  177734.553407   \n",
       "2        17.0       1988   0.025609  ...        1        1  282078.720850   \n",
       "3        22.0       1977   0.007122  ...        1        1  168106.007630   \n",
       "4        16.0       1972   0.282798  ...        6        1  343995.102962   \n",
       "\n",
       "   Rooms_outlier  HouseFloor_outlier  DistrictSize  IsDistrictLarge  \\\n",
       "0              0                   0           847                1   \n",
       "1              0                   0            78                0   \n",
       "2              0                   0           650                1   \n",
       "3              0                   0           650                1   \n",
       "4              0                   0            89                0   \n",
       "\n",
       "   MedPriceByDistrict  year_cat  floor_cat  \n",
       "0       146247.605596       5.0        1.0  \n",
       "1       183678.134031       2.0        2.0  \n",
       "2       183663.443595       3.0        0.0  \n",
       "3       183663.443595       2.0        3.0  \n",
       "4       181706.718894       2.0        4.0  \n",
       "\n",
       "[5 rows x 27 columns]"
      ]
     },
     "execution_count": 50,
     "metadata": {},
     "output_type": "execute_result"
    }
   ],
   "source": [
    "train_df = year_to_cat(train_df)\n",
    "train_df = floor_to_cat(train_df)\n",
    "train_df.head()"
   ]
  },
  {
   "cell_type": "code",
   "execution_count": 51,
   "metadata": {
    "colab": {
     "base_uri": "https://localhost:8080/",
     "height": 206
    },
    "execution": {
     "iopub.execute_input": "2020-12-23T14:55:52.762967Z",
     "iopub.status.busy": "2020-12-23T14:55:52.761937Z",
     "iopub.status.idle": "2020-12-23T14:55:52.775599Z",
     "shell.execute_reply": "2020-12-23T14:55:52.775066Z"
    },
    "id": "fgCyzaPNf0Mr",
    "outputId": "dfa1eb6a-a991-4fba-a4bc-b4ce752f975f",
    "papermill": {
     "duration": 0.106246,
     "end_time": "2020-12-23T14:55:52.775710",
     "exception": false,
     "start_time": "2020-12-23T14:55:52.669464",
     "status": "completed"
    },
    "tags": []
   },
   "outputs": [
    {
     "data": {
      "text/html": [
       "<div>\n",
       "<style scoped>\n",
       "    .dataframe tbody tr th:only-of-type {\n",
       "        vertical-align: middle;\n",
       "    }\n",
       "\n",
       "    .dataframe tbody tr th {\n",
       "        vertical-align: top;\n",
       "    }\n",
       "\n",
       "    .dataframe thead th {\n",
       "        text-align: right;\n",
       "    }\n",
       "</style>\n",
       "<table border=\"1\" class=\"dataframe\">\n",
       "  <thead>\n",
       "    <tr style=\"text-align: right;\">\n",
       "      <th></th>\n",
       "      <th>year_cat</th>\n",
       "      <th>floor_cat</th>\n",
       "      <th>MedPriceByFloorYear</th>\n",
       "    </tr>\n",
       "  </thead>\n",
       "  <tbody>\n",
       "    <tr>\n",
       "      <th>0</th>\n",
       "      <td>-1.0</td>\n",
       "      <td>2.0</td>\n",
       "      <td>287954.720682</td>\n",
       "    </tr>\n",
       "    <tr>\n",
       "      <th>1</th>\n",
       "      <td>0.0</td>\n",
       "      <td>-1.0</td>\n",
       "      <td>263299.720173</td>\n",
       "    </tr>\n",
       "    <tr>\n",
       "      <th>2</th>\n",
       "      <td>0.0</td>\n",
       "      <td>0.0</td>\n",
       "      <td>410299.956558</td>\n",
       "    </tr>\n",
       "    <tr>\n",
       "      <th>3</th>\n",
       "      <td>0.0</td>\n",
       "      <td>1.0</td>\n",
       "      <td>321497.418777</td>\n",
       "    </tr>\n",
       "    <tr>\n",
       "      <th>4</th>\n",
       "      <td>0.0</td>\n",
       "      <td>2.0</td>\n",
       "      <td>374737.658654</td>\n",
       "    </tr>\n",
       "  </tbody>\n",
       "</table>\n",
       "</div>"
      ],
      "text/plain": [
       "   year_cat  floor_cat  MedPriceByFloorYear\n",
       "0      -1.0        2.0        287954.720682\n",
       "1       0.0       -1.0        263299.720173\n",
       "2       0.0        0.0        410299.956558\n",
       "3       0.0        1.0        321497.418777\n",
       "4       0.0        2.0        374737.658654"
      ]
     },
     "execution_count": 51,
     "metadata": {},
     "output_type": "execute_result"
    }
   ],
   "source": [
    "med_price_by_floor_year = train_df.groupby(['year_cat', 'floor_cat'], as_index=False).agg({'Price':'median'}).\\\n",
    "                                            rename(columns={'Price':'MedPriceByFloorYear'})\n",
    "med_price_by_floor_year.head()"
   ]
  },
  {
   "cell_type": "code",
   "execution_count": 52,
   "metadata": {
    "colab": {
     "base_uri": "https://localhost:8080/",
     "height": 270
    },
    "execution": {
     "iopub.execute_input": "2020-12-23T14:55:52.951774Z",
     "iopub.status.busy": "2020-12-23T14:55:52.950994Z",
     "iopub.status.idle": "2020-12-23T14:55:52.985777Z",
     "shell.execute_reply": "2020-12-23T14:55:52.985238Z"
    },
    "id": "1ixqM7c-f0Ms",
    "outputId": "dd68b870-d62b-452e-c146-917d629e97b6",
    "papermill": {
     "duration": 0.12639,
     "end_time": "2020-12-23T14:55:52.985909",
     "exception": false,
     "start_time": "2020-12-23T14:55:52.859519",
     "status": "completed"
    },
    "tags": []
   },
   "outputs": [
    {
     "data": {
      "text/html": [
       "<div>\n",
       "<style scoped>\n",
       "    .dataframe tbody tr th:only-of-type {\n",
       "        vertical-align: middle;\n",
       "    }\n",
       "\n",
       "    .dataframe tbody tr th {\n",
       "        vertical-align: top;\n",
       "    }\n",
       "\n",
       "    .dataframe thead th {\n",
       "        text-align: right;\n",
       "    }\n",
       "</style>\n",
       "<table border=\"1\" class=\"dataframe\">\n",
       "  <thead>\n",
       "    <tr style=\"text-align: right;\">\n",
       "      <th></th>\n",
       "      <th>Id</th>\n",
       "      <th>DistrictId</th>\n",
       "      <th>Rooms</th>\n",
       "      <th>Square</th>\n",
       "      <th>LifeSquare</th>\n",
       "      <th>KitchenSquare</th>\n",
       "      <th>Floor</th>\n",
       "      <th>HouseFloor</th>\n",
       "      <th>HouseYear</th>\n",
       "      <th>Ecology_1</th>\n",
       "      <th>...</th>\n",
       "      <th>Shops_2</th>\n",
       "      <th>Price</th>\n",
       "      <th>Rooms_outlier</th>\n",
       "      <th>HouseFloor_outlier</th>\n",
       "      <th>DistrictSize</th>\n",
       "      <th>IsDistrictLarge</th>\n",
       "      <th>MedPriceByDistrict</th>\n",
       "      <th>year_cat</th>\n",
       "      <th>floor_cat</th>\n",
       "      <th>MedPriceByFloorYear</th>\n",
       "    </tr>\n",
       "  </thead>\n",
       "  <tbody>\n",
       "    <tr>\n",
       "      <th>0</th>\n",
       "      <td>11809</td>\n",
       "      <td>27</td>\n",
       "      <td>3.0</td>\n",
       "      <td>115.027311</td>\n",
       "      <td>102.027311</td>\n",
       "      <td>10.0</td>\n",
       "      <td>4</td>\n",
       "      <td>10.0</td>\n",
       "      <td>2014</td>\n",
       "      <td>0.075424</td>\n",
       "      <td>...</td>\n",
       "      <td>1</td>\n",
       "      <td>305018.871089</td>\n",
       "      <td>0</td>\n",
       "      <td>0</td>\n",
       "      <td>847</td>\n",
       "      <td>1</td>\n",
       "      <td>146247.605596</td>\n",
       "      <td>5.0</td>\n",
       "      <td>1.0</td>\n",
       "      <td>161246.069193</td>\n",
       "    </tr>\n",
       "    <tr>\n",
       "      <th>1</th>\n",
       "      <td>3013</td>\n",
       "      <td>22</td>\n",
       "      <td>1.0</td>\n",
       "      <td>39.832524</td>\n",
       "      <td>23.169223</td>\n",
       "      <td>8.0</td>\n",
       "      <td>7</td>\n",
       "      <td>8.0</td>\n",
       "      <td>1966</td>\n",
       "      <td>0.118537</td>\n",
       "      <td>...</td>\n",
       "      <td>1</td>\n",
       "      <td>177734.553407</td>\n",
       "      <td>0</td>\n",
       "      <td>0</td>\n",
       "      <td>78</td>\n",
       "      <td>0</td>\n",
       "      <td>183678.134031</td>\n",
       "      <td>2.0</td>\n",
       "      <td>2.0</td>\n",
       "      <td>188075.033218</td>\n",
       "    </tr>\n",
       "    <tr>\n",
       "      <th>2</th>\n",
       "      <td>8215</td>\n",
       "      <td>1</td>\n",
       "      <td>3.0</td>\n",
       "      <td>78.342215</td>\n",
       "      <td>47.671972</td>\n",
       "      <td>10.0</td>\n",
       "      <td>2</td>\n",
       "      <td>17.0</td>\n",
       "      <td>1988</td>\n",
       "      <td>0.025609</td>\n",
       "      <td>...</td>\n",
       "      <td>1</td>\n",
       "      <td>282078.720850</td>\n",
       "      <td>0</td>\n",
       "      <td>0</td>\n",
       "      <td>650</td>\n",
       "      <td>1</td>\n",
       "      <td>183663.443595</td>\n",
       "      <td>3.0</td>\n",
       "      <td>0.0</td>\n",
       "      <td>205210.068542</td>\n",
       "    </tr>\n",
       "    <tr>\n",
       "      <th>3</th>\n",
       "      <td>2352</td>\n",
       "      <td>1</td>\n",
       "      <td>1.0</td>\n",
       "      <td>40.409907</td>\n",
       "      <td>34.409907</td>\n",
       "      <td>3.0</td>\n",
       "      <td>10</td>\n",
       "      <td>22.0</td>\n",
       "      <td>1977</td>\n",
       "      <td>0.007122</td>\n",
       "      <td>...</td>\n",
       "      <td>1</td>\n",
       "      <td>168106.007630</td>\n",
       "      <td>0</td>\n",
       "      <td>0</td>\n",
       "      <td>650</td>\n",
       "      <td>1</td>\n",
       "      <td>183663.443595</td>\n",
       "      <td>2.0</td>\n",
       "      <td>3.0</td>\n",
       "      <td>185190.984473</td>\n",
       "    </tr>\n",
       "    <tr>\n",
       "      <th>4</th>\n",
       "      <td>13866</td>\n",
       "      <td>94</td>\n",
       "      <td>2.0</td>\n",
       "      <td>64.285067</td>\n",
       "      <td>38.562517</td>\n",
       "      <td>9.0</td>\n",
       "      <td>16</td>\n",
       "      <td>16.0</td>\n",
       "      <td>1972</td>\n",
       "      <td>0.282798</td>\n",
       "      <td>...</td>\n",
       "      <td>1</td>\n",
       "      <td>343995.102962</td>\n",
       "      <td>0</td>\n",
       "      <td>0</td>\n",
       "      <td>89</td>\n",
       "      <td>0</td>\n",
       "      <td>181706.718894</td>\n",
       "      <td>2.0</td>\n",
       "      <td>4.0</td>\n",
       "      <td>181077.523669</td>\n",
       "    </tr>\n",
       "  </tbody>\n",
       "</table>\n",
       "<p>5 rows × 28 columns</p>\n",
       "</div>"
      ],
      "text/plain": [
       "      Id DistrictId  Rooms      Square  LifeSquare  KitchenSquare  Floor  \\\n",
       "0  11809         27    3.0  115.027311  102.027311           10.0      4   \n",
       "1   3013         22    1.0   39.832524   23.169223            8.0      7   \n",
       "2   8215          1    3.0   78.342215   47.671972           10.0      2   \n",
       "3   2352          1    1.0   40.409907   34.409907            3.0     10   \n",
       "4  13866         94    2.0   64.285067   38.562517            9.0     16   \n",
       "\n",
       "   HouseFloor  HouseYear  Ecology_1  ...  Shops_2          Price  \\\n",
       "0        10.0       2014   0.075424  ...        1  305018.871089   \n",
       "1         8.0       1966   0.118537  ...        1  177734.553407   \n",
       "2        17.0       1988   0.025609  ...        1  282078.720850   \n",
       "3        22.0       1977   0.007122  ...        1  168106.007630   \n",
       "4        16.0       1972   0.282798  ...        1  343995.102962   \n",
       "\n",
       "   Rooms_outlier  HouseFloor_outlier  DistrictSize  IsDistrictLarge  \\\n",
       "0              0                   0           847                1   \n",
       "1              0                   0            78                0   \n",
       "2              0                   0           650                1   \n",
       "3              0                   0           650                1   \n",
       "4              0                   0            89                0   \n",
       "\n",
       "   MedPriceByDistrict  year_cat  floor_cat  MedPriceByFloorYear  \n",
       "0       146247.605596       5.0        1.0        161246.069193  \n",
       "1       183678.134031       2.0        2.0        188075.033218  \n",
       "2       183663.443595       3.0        0.0        205210.068542  \n",
       "3       183663.443595       2.0        3.0        185190.984473  \n",
       "4       181706.718894       2.0        4.0        181077.523669  \n",
       "\n",
       "[5 rows x 28 columns]"
      ]
     },
     "execution_count": 52,
     "metadata": {},
     "output_type": "execute_result"
    }
   ],
   "source": [
    "train_df = train_df.merge(med_price_by_floor_year, on=['year_cat', 'floor_cat'], how='left')\n",
    "train_df.head()"
   ]
  },
  {
   "cell_type": "code",
   "execution_count": 53,
   "metadata": {
    "execution": {
     "iopub.execute_input": "2020-12-23T14:55:53.186816Z",
     "iopub.status.busy": "2020-12-23T14:55:53.185847Z",
     "iopub.status.idle": "2020-12-23T14:55:53.188199Z",
     "shell.execute_reply": "2020-12-23T14:55:53.188689Z"
    },
    "id": "Mj37QDJYf0Ms",
    "papermill": {
     "duration": 0.118102,
     "end_time": "2020-12-23T14:55:53.188824",
     "exception": false,
     "start_time": "2020-12-23T14:55:53.070722",
     "status": "completed"
    },
    "tags": []
   },
   "outputs": [],
   "source": [
    "class FeatureGenetator():\n",
    "    \"\"\"Генерация новых фич\"\"\"\n",
    "    \n",
    "    def __init__(self, large_district_threshold=100, med_price_by_district_grouping=[]):\n",
    "        self.DistrictId_counts = None\n",
    "        self.binary_to_numbers = None\n",
    "        self.med_price_by_district = None\n",
    "        self.med_price_by_floor_year = None\n",
    "        self.house_year_max = None\n",
    "        self.floor_max = None\n",
    "        self.house_year_min = None\n",
    "        self.floor_min = None\n",
    "        self.district_size = None\n",
    "        \n",
    "        self.large_district_threshold = large_district_threshold\n",
    "        self.med_price_by_district_grouping = med_price_by_district_grouping\n",
    "        \n",
    "    def fit(self, X, y=None):\n",
    "        \n",
    "        X = X.copy()\n",
    "        \n",
    "        # Binary features\n",
    "        self.binary_to_numbers = {'A': 0, 'B': 1}\n",
    "        \n",
    "        # DistrictID\n",
    "        self.district_size = X['DistrictId'].value_counts().reset_index() \\\n",
    "                               .rename(columns={'index':'DistrictId', 'DistrictId':'DistrictSize'})\n",
    "                \n",
    "        # Target encoding\n",
    "        ## District, Rooms\n",
    "        df = X.copy()\n",
    "        \n",
    "        if y is not None:\n",
    "            df['Price'] = y.values\n",
    "            \n",
    "            self.med_price_by_district = df.groupby(self.med_price_by_district_grouping, as_index=False).agg({'Price':'median'})\\\n",
    "                                            .rename(columns={'Price':'MedPriceByDistrict'})\n",
    "            \n",
    "            self.med_price_by_district_median = self.med_price_by_district['MedPriceByDistrict'].median()\n",
    "            \n",
    "        ## floor, year\n",
    "        if y is not None:\n",
    "            self.floor_max = df['Floor'].max()\n",
    "            self.floor_min = df['Floor'].min()\n",
    "            self.house_year_max = df['HouseYear'].max()\n",
    "            self.house_year_min = df['HouseYear'].min()\n",
    "            df['Price'] = y.values\n",
    "            df = self.floor_to_cat(df)\n",
    "            df = self.year_to_cat(df)\n",
    "            self.med_price_by_floor_year = df.groupby(['year_cat', 'floor_cat'], as_index=False).agg({'Price':'median'}).\\\n",
    "                                            rename(columns={'Price':'MedPriceByFloorYear'})\n",
    "            self.med_price_by_floor_year_median = self.med_price_by_floor_year['MedPriceByFloorYear'].median()\n",
    "        \n",
    "\n",
    "        \n",
    "    def transform(self, X):\n",
    "        \n",
    "        # Binary features\n",
    "        X['Ecology_2'] = X['Ecology_2'].map(self.binary_to_numbers)  # self.binary_to_numbers = {'A': 0, 'B': 1}\n",
    "        X['Ecology_3'] = X['Ecology_3'].map(self.binary_to_numbers)\n",
    "        X['Shops_2'] = X['Shops_2'].map(self.binary_to_numbers)\n",
    "        \n",
    "        # DistrictId, IsDistrictLarge\n",
    "        X = X.merge(self.district_size, on='DistrictId', how='left')\n",
    "        \n",
    "        X['DistrictSize'].fillna(5, inplace=True)\n",
    "        \n",
    "        X['IsDistrictLarge'] = (X['DistrictSize'] > 100).astype(int)\n",
    "        \n",
    "        # More categorical features\n",
    "        X = self.floor_to_cat(X)  # + столбец floor_cat\n",
    "        X = self.year_to_cat(X)   # + столбец year_cat\n",
    "        \n",
    "        # Target encoding\n",
    "        if self.med_price_by_district is not None:\n",
    "            X = X.merge(self.med_price_by_district, on=self.med_price_by_district_grouping, how='left')\n",
    "            X['MedPriceByDistrict'].fillna(self.med_price_by_district_median, inplace=True)\n",
    "            \n",
    "        if self.med_price_by_floor_year is not None:\n",
    "            X = X.merge(self.med_price_by_floor_year, on=['year_cat', 'floor_cat'], how='left')\n",
    "            X['MedPriceByFloorYear'].fillna(self.med_price_by_floor_year_median, inplace=True)\n",
    "        \n",
    "        return X\n",
    "    \n",
    "    def floor_to_cat(self, X):\n",
    "        bins = [0, 3, 5, 9, 15, self.floor_max]\n",
    "        X['floor_cat'] = pd.cut(X['Floor'], bins=bins, labels=False)\n",
    "\n",
    "        X['floor_cat'].fillna(-1, inplace=True) \n",
    "        return X\n",
    "     \n",
    "    def year_to_cat(self, X):\n",
    "        bins = [0, 1941, 1945, 1980, 2000, 2010, self.house_year_max]\n",
    "        X['year_cat'] = pd.cut(X['HouseYear'], bins=bins, labels=False)\n",
    "\n",
    "        X['year_cat'].fillna(-1, inplace=True)\n",
    "        return X\n",
    "            \n",
    "    "
   ]
  },
  {
   "cell_type": "markdown",
   "metadata": {
    "id": "VgCgv808f0Mt",
    "papermill": {
     "duration": 0.083926,
     "end_time": "2020-12-23T14:55:53.357479",
     "exception": false,
     "start_time": "2020-12-23T14:55:53.273553",
     "status": "completed"
    },
    "tags": []
   },
   "source": [
    "### 5. Отбор признаков  <a class='anchor' id='feature_selection'>"
   ]
  },
  {
   "cell_type": "code",
   "execution_count": 54,
   "metadata": {
    "colab": {
     "base_uri": "https://localhost:8080/"
    },
    "execution": {
     "iopub.execute_input": "2020-12-23T14:55:53.531803Z",
     "iopub.status.busy": "2020-12-23T14:55:53.530967Z",
     "iopub.status.idle": "2020-12-23T14:55:53.535551Z",
     "shell.execute_reply": "2020-12-23T14:55:53.536053Z"
    },
    "id": "GWjwb4o7f0Mt",
    "outputId": "e3c3f291-3f15-496e-d21b-343718d4dece",
    "papermill": {
     "duration": 0.094812,
     "end_time": "2020-12-23T14:55:53.536254",
     "exception": false,
     "start_time": "2020-12-23T14:55:53.441442",
     "status": "completed"
    },
    "tags": []
   },
   "outputs": [
    {
     "data": {
      "text/plain": [
       "['Id',\n",
       " 'DistrictId',\n",
       " 'Rooms',\n",
       " 'Square',\n",
       " 'LifeSquare',\n",
       " 'KitchenSquare',\n",
       " 'Floor',\n",
       " 'HouseFloor',\n",
       " 'HouseYear',\n",
       " 'Ecology_1',\n",
       " 'Ecology_2',\n",
       " 'Ecology_3',\n",
       " 'Social_1',\n",
       " 'Social_2',\n",
       " 'Social_3',\n",
       " 'Healthcare_1',\n",
       " 'Helthcare_2',\n",
       " 'Shops_1',\n",
       " 'Shops_2',\n",
       " 'Price',\n",
       " 'Rooms_outlier',\n",
       " 'HouseFloor_outlier',\n",
       " 'DistrictSize',\n",
       " 'IsDistrictLarge',\n",
       " 'MedPriceByDistrict',\n",
       " 'year_cat',\n",
       " 'floor_cat',\n",
       " 'MedPriceByFloorYear']"
      ]
     },
     "execution_count": 54,
     "metadata": {},
     "output_type": "execute_result"
    }
   ],
   "source": [
    "train_df.columns.tolist()"
   ]
  },
  {
   "cell_type": "code",
   "execution_count": 55,
   "metadata": {
    "execution": {
     "iopub.execute_input": "2020-12-23T14:55:53.716156Z",
     "iopub.status.busy": "2020-12-23T14:55:53.715441Z",
     "iopub.status.idle": "2020-12-23T14:55:53.718485Z",
     "shell.execute_reply": "2020-12-23T14:55:53.719024Z"
    },
    "id": "qJwC1Hh8f0Mu",
    "papermill": {
     "duration": 0.096175,
     "end_time": "2020-12-23T14:55:53.719169",
     "exception": false,
     "start_time": "2020-12-23T14:55:53.622994",
     "status": "completed"
    },
    "tags": []
   },
   "outputs": [],
   "source": [
    "feature_names = ['Rooms', 'Square', 'LifeSquare', 'KitchenSquare', 'Floor', 'HouseFloor', 'HouseYear',\n",
    "                 'Ecology_1', 'Ecology_2', 'Ecology_3', 'Social_1', 'Social_2', 'Social_3',\n",
    "                 'Helthcare_2', 'Shops_1', 'Shops_2']\n",
    "\n",
    "new_feature_names = ['Rooms_outlier', 'HouseYear_outlier', 'DistrictSize', 'IsDistrictLarge', 'MedPriceByDistrict', 'MedPriceByFloorYear', 'OtherSquare']\n",
    "\n",
    "target_name = 'Price'"
   ]
  },
  {
   "cell_type": "markdown",
   "metadata": {
    "id": "hVRp6Qwlf0Mu",
    "papermill": {
     "duration": 0.084235,
     "end_time": "2020-12-23T14:55:53.889172",
     "exception": false,
     "start_time": "2020-12-23T14:55:53.804937",
     "status": "completed"
    },
    "tags": []
   },
   "source": [
    "### 6. Разбиение на train и test  <a class='anchor' id='split'>"
   ]
  },
  {
   "cell_type": "code",
   "execution_count": 56,
   "metadata": {
    "execution": {
     "iopub.execute_input": "2020-12-23T14:55:54.068319Z",
     "iopub.status.busy": "2020-12-23T14:55:54.067651Z",
     "iopub.status.idle": "2020-12-23T14:55:54.121605Z",
     "shell.execute_reply": "2020-12-23T14:55:54.121076Z"
    },
    "id": "kRI84XSuf0Mv",
    "papermill": {
     "duration": 0.147531,
     "end_time": "2020-12-23T14:55:54.121727",
     "exception": false,
     "start_time": "2020-12-23T14:55:53.974196",
     "status": "completed"
    },
    "tags": []
   },
   "outputs": [],
   "source": [
    "train_df = pd.read_csv(TRAIN_DATASET_PATH)\n",
    "test_df = pd.read_csv(TEST_DATASET_PATH)\n",
    "\n",
    "X = train_df.drop(columns=target_name)\n",
    "y = train_df[target_name]"
   ]
  },
  {
   "cell_type": "code",
   "execution_count": 57,
   "metadata": {
    "execution": {
     "iopub.execute_input": "2020-12-23T14:55:54.300624Z",
     "iopub.status.busy": "2020-12-23T14:55:54.299642Z",
     "iopub.status.idle": "2020-12-23T14:55:54.306040Z",
     "shell.execute_reply": "2020-12-23T14:55:54.305392Z"
    },
    "id": "xEg39Mwtf0Mv",
    "papermill": {
     "duration": 0.098387,
     "end_time": "2020-12-23T14:55:54.306153",
     "exception": false,
     "start_time": "2020-12-23T14:55:54.207766",
     "status": "completed"
    },
    "tags": []
   },
   "outputs": [],
   "source": [
    "X_train, X_valid, y_train, y_valid = train_test_split(X, y, test_size=0.33, shuffle=True, random_state=21)"
   ]
  },
  {
   "cell_type": "code",
   "execution_count": null,
   "metadata": {
    "colab": {
     "base_uri": "https://localhost:8080/"
    },
    "execution": {
     "iopub.execute_input": "2020-12-23T14:55:54.483689Z",
     "iopub.status.busy": "2020-12-23T14:55:54.482801Z",
     "iopub.status.idle": "2020-12-23T14:55:54.562348Z",
     "shell.execute_reply": "2020-12-23T14:55:54.562797Z"
    },
    "id": "KB7phx2Ef0Mv",
    "outputId": "6f6516e9-ff77-46b0-b656-0e7b01f27e66",
    "papermill": {
     "duration": 0.171793,
     "end_time": "2020-12-23T14:55:54.562957",
     "exception": false,
     "start_time": "2020-12-23T14:55:54.391164",
     "status": "completed"
    },
    "tags": []
   },
   "outputs": [],
   "source": [
    "preprocessor = DataPreprocessing(kitchen_square_quantile=0.95, \n",
    "                                 kitchen_square_min_threshold=3,\n",
    "                                 balcony_square=5)\n",
    "\n",
    "X_train = preprocessor.add_features(X_train)\n",
    "X_valid = preprocessor.add_features(X_valid)\n",
    "test_df = preprocessor.add_features(test_df)\n",
    "\n",
    "preprocessor.fit(X_train)\n",
    "\n",
    "X_train = preprocessor.transform(X_train)\n",
    "X_valid = preprocessor.transform(X_valid)\n",
    "test_df = preprocessor.transform(test_df)\n",
    "\n",
    "X_train.shape, X_valid.shape, test_df.shape"
   ]
  },
  {
   "cell_type": "code",
   "execution_count": null,
   "metadata": {
    "colab": {
     "base_uri": "https://localhost:8080/"
    },
    "execution": {
     "iopub.execute_input": "2020-12-23T14:55:54.764620Z",
     "iopub.status.busy": "2020-12-23T14:55:54.763605Z",
     "iopub.status.idle": "2020-12-23T14:55:54.885093Z",
     "shell.execute_reply": "2020-12-23T14:55:54.885592Z"
    },
    "id": "LzWMOIQ_f0Mw",
    "outputId": "75f67214-68e2-49b5-feaa-fae3f58d367e",
    "papermill": {
     "duration": 0.227708,
     "end_time": "2020-12-23T14:55:54.885743",
     "exception": false,
     "start_time": "2020-12-23T14:55:54.658035",
     "status": "completed"
    },
    "tags": []
   },
   "outputs": [],
   "source": [
    "features_gen = FeatureGenetator(large_district_threshold=100, med_price_by_district_grouping=['DistrictId'])\n",
    "features_gen.fit(X_train, y_train)\n",
    "\n",
    "X_train = features_gen.transform(X_train)\n",
    "X_valid = features_gen.transform(X_valid)\n",
    "test_df = features_gen.transform(test_df)\n",
    "\n",
    "X_train.shape, X_valid.shape, test_df.shape"
   ]
  },
  {
   "cell_type": "code",
   "execution_count": null,
   "metadata": {
    "colab": {
     "base_uri": "https://localhost:8080/"
    },
    "id": "2Z_BzrrKuptH",
    "outputId": "1e850b99-2644-4180-90a6-1c8beaa57664"
   },
   "outputs": [],
   "source": [
    "X_train.shape, X_valid.shape, test_df.shape"
   ]
  },
  {
   "cell_type": "code",
   "execution_count": null,
   "metadata": {
    "colab": {
     "base_uri": "https://localhost:8080/"
    },
    "id": "QNkxEvo7FpjF",
    "outputId": "a39ba84c-460b-4430-ba5f-3f2002acab36"
   },
   "outputs": [],
   "source": [
    "len(new_feature_names)"
   ]
  },
  {
   "cell_type": "code",
   "execution_count": null,
   "metadata": {
    "execution": {
     "iopub.execute_input": "2020-12-23T14:55:55.063673Z",
     "iopub.status.busy": "2020-12-23T14:55:55.062646Z",
     "iopub.status.idle": "2020-12-23T14:55:55.074632Z",
     "shell.execute_reply": "2020-12-23T14:55:55.075126Z"
    },
    "id": "rocHFnbwf0Mw",
    "papermill": {
     "duration": 0.102279,
     "end_time": "2020-12-23T14:55:55.075277",
     "exception": false,
     "start_time": "2020-12-23T14:55:54.972998",
     "status": "completed"
    },
    "tags": []
   },
   "outputs": [],
   "source": [
    "X_train = X_train[feature_names + new_feature_names]\n",
    "X_valid = X_valid[feature_names + new_feature_names]\n",
    "test_df = test_df[feature_names + new_feature_names]"
   ]
  },
  {
   "cell_type": "code",
   "execution_count": null,
   "metadata": {
    "colab": {
     "base_uri": "https://localhost:8080/"
    },
    "execution": {
     "iopub.execute_input": "2020-12-23T14:55:55.261043Z",
     "iopub.status.busy": "2020-12-23T14:55:55.260044Z",
     "iopub.status.idle": "2020-12-23T14:55:55.271535Z",
     "shell.execute_reply": "2020-12-23T14:55:55.270807Z"
    },
    "id": "vnh8-Ctsf0Mw",
    "outputId": "1f2f5418-04b9-49a6-dc65-cd925620c147",
    "papermill": {
     "duration": 0.110142,
     "end_time": "2020-12-23T14:55:55.271646",
     "exception": false,
     "start_time": "2020-12-23T14:55:55.161504",
     "status": "completed"
    },
    "tags": []
   },
   "outputs": [],
   "source": [
    "X_train.isna().sum().sum(), X_valid.isna().sum().sum(), test_df.isna().sum().sum()"
   ]
  },
  {
   "cell_type": "markdown",
   "metadata": {
    "id": "GZqq2dGif0Mx",
    "papermill": {
     "duration": 0.086897,
     "end_time": "2020-12-23T14:55:55.445624",
     "exception": false,
     "start_time": "2020-12-23T14:55:55.358727",
     "status": "completed"
    },
    "tags": []
   },
   "source": [
    "### 7. Построение модели  <a class='anchor' id='modeling'>"
   ]
  },
  {
   "cell_type": "markdown",
   "metadata": {},
   "source": [
    "### RandomForestRegressor"
   ]
  },
  {
   "cell_type": "markdown",
   "metadata": {
    "id": "zmc3Asepf0Mx",
    "papermill": {
     "duration": 0.089031,
     "end_time": "2020-12-23T14:55:55.622560",
     "exception": false,
     "start_time": "2020-12-23T14:55:55.533529",
     "status": "completed"
    },
    "tags": []
   },
   "source": [
    "**Обучение**"
   ]
  },
  {
   "cell_type": "code",
   "execution_count": null,
   "metadata": {
    "colab": {
     "base_uri": "https://localhost:8080/"
    },
    "execution": {
     "iopub.execute_input": "2020-12-23T14:55:55.807790Z",
     "iopub.status.busy": "2020-12-23T14:55:55.806745Z",
     "iopub.status.idle": "2020-12-23T14:56:01.517755Z",
     "shell.execute_reply": "2020-12-23T14:56:01.517239Z"
    },
    "id": "cyo9fc67f0Mx",
    "outputId": "6f2f4731-1116-4af1-964a-91b3322ab3a2",
    "papermill": {
     "duration": 5.80834,
     "end_time": "2020-12-23T14:56:01.517889",
     "exception": false,
     "start_time": "2020-12-23T14:55:55.709549",
     "status": "completed"
    },
    "tags": []
   },
   "outputs": [],
   "source": [
    "rfr_model = RandomForestRegressor(n_estimators=600,\n",
    "                                  max_features=6,\n",
    "                                  max_depth=45,\n",
    "                                  random_state=42,\n",
    "                                  n_jobs=5)"
   ]
  },
  {
   "cell_type": "code",
   "execution_count": null,
   "metadata": {
    "colab": {
     "base_uri": "https://localhost:8080/"
    },
    "execution": {
     "iopub.execute_input": "2020-12-23T14:55:55.807790Z",
     "iopub.status.busy": "2020-12-23T14:55:55.806745Z",
     "iopub.status.idle": "2020-12-23T14:56:01.517755Z",
     "shell.execute_reply": "2020-12-23T14:56:01.517239Z"
    },
    "id": "cyo9fc67f0Mx",
    "outputId": "6f2f4731-1116-4af1-964a-91b3322ab3a2",
    "papermill": {
     "duration": 5.80834,
     "end_time": "2020-12-23T14:56:01.517889",
     "exception": false,
     "start_time": "2020-12-23T14:55:55.709549",
     "status": "completed"
    },
    "tags": []
   },
   "outputs": [],
   "source": [
    "rfr_model.fit(X_train, y_train)"
   ]
  },
  {
   "cell_type": "markdown",
   "metadata": {
    "id": "X0675eu8f0My",
    "papermill": {
     "duration": 0.088952,
     "end_time": "2020-12-23T14:56:01.696308",
     "exception": false,
     "start_time": "2020-12-23T14:56:01.607356",
     "status": "completed"
    },
    "tags": []
   },
   "source": [
    "**Оценка модели**"
   ]
  },
  {
   "cell_type": "code",
   "execution_count": null,
   "metadata": {
    "colab": {
     "base_uri": "https://localhost:8080/",
     "height": 669
    },
    "execution": {
     "iopub.execute_input": "2020-12-23T14:56:01.881108Z",
     "iopub.status.busy": "2020-12-23T14:56:01.880401Z",
     "iopub.status.idle": "2020-12-23T14:56:02.560581Z",
     "shell.execute_reply": "2020-12-23T14:56:02.561364Z"
    },
    "id": "DCFQp-1Kf0My",
    "outputId": "db298917-854b-4174-9668-e699ce812c20",
    "papermill": {
     "duration": 0.776312,
     "end_time": "2020-12-23T14:56:02.561556",
     "exception": false,
     "start_time": "2020-12-23T14:56:01.785244",
     "status": "completed"
    },
    "tags": []
   },
   "outputs": [],
   "source": [
    "y_train_preds = rfr_model.predict(X_train)\n",
    "y_test_preds = rfr_model.predict(X_valid)\n",
    "y_test=rfr_model.predict(test_df)\n",
    "\n",
    "evaluate_preds(y_train, y_train_preds, y_valid, y_test_preds)"
   ]
  },
  {
   "cell_type": "markdown",
   "metadata": {
    "id": "z2LKvnUOf0Mz",
    "papermill": {
     "duration": 0.096493,
     "end_time": "2020-12-23T14:56:02.752492",
     "exception": false,
     "start_time": "2020-12-23T14:56:02.655999",
     "status": "completed"
    },
    "tags": []
   },
   "source": [
    "**Кросс-валидация**"
   ]
  },
  {
   "cell_type": "code",
   "execution_count": null,
   "metadata": {
    "colab": {
     "base_uri": "https://localhost:8080/"
    },
    "execution": {
     "iopub.execute_input": "2020-12-23T14:56:02.948461Z",
     "iopub.status.busy": "2020-12-23T14:56:02.947689Z",
     "iopub.status.idle": "2020-12-23T14:56:14.583597Z",
     "shell.execute_reply": "2020-12-23T14:56:14.584478Z"
    },
    "id": "MIYMNS0Hf0Mz",
    "outputId": "59579394-8d0b-4df2-d05b-db77a85da122",
    "papermill": {
     "duration": 11.738463,
     "end_time": "2020-12-23T14:56:14.584720",
     "exception": false,
     "start_time": "2020-12-23T14:56:02.846257",
     "status": "completed"
    },
    "tags": []
   },
   "outputs": [],
   "source": [
    "cv_score = cross_val_score(rfr_model, X_train, y_train, scoring='r2', cv=KFold(n_splits=3, shuffle=True, random_state=21))\n",
    "cv_score"
   ]
  },
  {
   "cell_type": "code",
   "execution_count": null,
   "metadata": {
    "colab": {
     "base_uri": "https://localhost:8080/"
    },
    "execution": {
     "iopub.execute_input": "2020-12-23T14:56:14.789900Z",
     "iopub.status.busy": "2020-12-23T14:56:14.788905Z",
     "iopub.status.idle": "2020-12-23T14:56:14.794572Z",
     "shell.execute_reply": "2020-12-23T14:56:14.795185Z"
    },
    "id": "A-Wm-BYjf0Mz",
    "outputId": "a4470900-d0ee-44fe-aaab-9f4bb4075799",
    "papermill": {
     "duration": 0.111273,
     "end_time": "2020-12-23T14:56:14.795322",
     "exception": false,
     "start_time": "2020-12-23T14:56:14.684049",
     "status": "completed"
    },
    "tags": []
   },
   "outputs": [],
   "source": [
    "cv_score.mean()"
   ]
  },
  {
   "cell_type": "markdown",
   "metadata": {},
   "source": [
    "### CatBoostRegressor"
   ]
  },
  {
   "cell_type": "code",
   "execution_count": null,
   "metadata": {},
   "outputs": [],
   "source": [
    "cbr_model = CatBoostRegressor(\n",
    "    learning_rate=0.03,\n",
    "    depth=9,\n",
    "    l2_leaf_reg=2,\n",
    "    iterations=1000,\n",
    "    loss_function='RMSE',\n",
    "    eval_metric='RMSE',\n",
    "    random_seed=21,\n",
    "    silent=True,\n",
    ")\n",
    "cbr_model.fit(X_train, y_train)"
   ]
  },
  {
   "cell_type": "code",
   "execution_count": null,
   "metadata": {},
   "outputs": [],
   "source": [
    "y_train_preds = cbr_model.predict(X_train)\n",
    "y_test_preds = cbr_model.predict(X_valid)\n",
    "\n",
    "evaluate_preds(y_train, y_train_preds, y_valid, y_test_preds)"
   ]
  },
  {
   "cell_type": "code",
   "execution_count": null,
   "metadata": {},
   "outputs": [],
   "source": [
    "cv_score = cross_val_score(cbr_model, X_train, y_train, scoring='r2', cv=KFold(n_splits=5, shuffle=True, random_state=42))\n",
    "cv_score"
   ]
  },
  {
   "cell_type": "code",
   "execution_count": null,
   "metadata": {},
   "outputs": [],
   "source": [
    "cv_score.mean()"
   ]
  },
  {
   "cell_type": "markdown",
   "metadata": {
    "id": "fp3-ZFXXf0M0",
    "papermill": {
     "duration": 0.09272,
     "end_time": "2020-12-23T14:56:14.982636",
     "exception": false,
     "start_time": "2020-12-23T14:56:14.889916",
     "status": "completed"
    },
    "tags": []
   },
   "source": [
    "**Важность признаков**"
   ]
  },
  {
   "cell_type": "code",
   "execution_count": null,
   "metadata": {
    "colab": {
     "base_uri": "https://localhost:8080/",
     "height": 833
    },
    "execution": {
     "iopub.execute_input": "2020-12-23T14:56:15.173047Z",
     "iopub.status.busy": "2020-12-23T14:56:15.172059Z",
     "iopub.status.idle": "2020-12-23T14:56:15.219237Z",
     "shell.execute_reply": "2020-12-23T14:56:15.218705Z"
    },
    "id": "Ehvdc15vf0M0",
    "outputId": "dff1ce22-ce81-4a96-8ce6-9dcb34d2a773",
    "papermill": {
     "duration": 0.143252,
     "end_time": "2020-12-23T14:56:15.219352",
     "exception": false,
     "start_time": "2020-12-23T14:56:15.076100",
     "status": "completed"
    },
    "tags": []
   },
   "outputs": [],
   "source": [
    "feature_importances = pd.DataFrame(zip(X_train.columns, rfr_model.feature_importances_), \n",
    "                                   columns=['feature_name', 'importance'])\n",
    "\n",
    "feature_importances.sort_values(by='importance', ascending=False)"
   ]
  },
  {
   "cell_type": "markdown",
   "metadata": {},
   "source": [
    "### LGBMRegressor"
   ]
  },
  {
   "cell_type": "code",
   "execution_count": null,
   "metadata": {},
   "outputs": [],
   "source": [
    "lgbm_model = LGBMRegressor()\n",
    "lgbm_model.fit(X_train, y_train)"
   ]
  },
  {
   "cell_type": "code",
   "execution_count": null,
   "metadata": {},
   "outputs": [],
   "source": [
    "def model_test(model, name, test, valid):\n",
    "    model_pred = model.predict(test)\n",
    "    r2_score = r2(valid, model_pred)\n",
    "    mse = mean_squared_error(valid, model_pred)\n",
    "    plt.figure(figsize=(18,10))\n",
    "    \n",
    "    plt.scatter(valid, (model_pred - valid))\n",
    "    plt.xlabel(\"Predicted values\")\n",
    "    plt.ylabel(\"Real values\")\n",
    "    plt.title(name)\n",
    "    plt.legend([f'R2= {r2_score:.4f} and mse= {mse:.0e}'])\n",
    "    plt.axhline(0, color='red')\n",
    "    plt.show()"
   ]
  },
  {
   "cell_type": "code",
   "execution_count": null,
   "metadata": {},
   "outputs": [],
   "source": [
    "model_test(lgbm_model, 'LGBMRegressor', X_valid, y_valid)"
   ]
  },
  {
   "cell_type": "markdown",
   "metadata": {},
   "source": [
    "### Тестирование LGBMRegressor "
   ]
  },
  {
   "cell_type": "code",
   "execution_count": null,
   "metadata": {},
   "outputs": [],
   "source": [
    "lgbm_model = LGBMRegressor(\n",
    "    max_bin=110,\n",
    "    num_leaves=4,\n",
    "    n_estimators=4000,\n",
    "    learning_rate=0.01\n",
    ")\n",
    "lgbm_model.fit(X_train, y_train)"
   ]
  },
  {
   "cell_type": "code",
   "execution_count": null,
   "metadata": {},
   "outputs": [],
   "source": [
    "model_test(lgbm_model, 'LGBMRegressor', X_valid, y_valid)"
   ]
  },
  {
   "cell_type": "code",
   "execution_count": null,
   "metadata": {},
   "outputs": [],
   "source": [
    "models = {}"
   ]
  },
  {
   "cell_type": "markdown",
   "metadata": {},
   "source": [
    "### XGBRegressor"
   ]
  },
  {
   "cell_type": "code",
   "execution_count": null,
   "metadata": {},
   "outputs": [],
   "source": [
    "xgboost_model = XGBRegressor()\n",
    "xgboost_model.fit(X_train, y_train)"
   ]
  },
  {
   "cell_type": "code",
   "execution_count": null,
   "metadata": {},
   "outputs": [],
   "source": [
    "models['LGBMRegressor'] = lgbm_model\n",
    "models['XGBRegressor'] = xgboost_model"
   ]
  },
  {
   "cell_type": "markdown",
   "metadata": {},
   "source": [
    "### Тестирование XGBRegressor"
   ]
  },
  {
   "cell_type": "code",
   "execution_count": null,
   "metadata": {},
   "outputs": [],
   "source": [
    "model_test(xgboost_model, 'XGBRegressor', X_valid, y_valid)"
   ]
  },
  {
   "cell_type": "code",
   "execution_count": null,
   "metadata": {},
   "outputs": [],
   "source": [
    "def models_r2(models, test, valid):\n",
    "    scores = pd.DataFrame(columns=['name', 'r2', 'mse'])\n",
    "    for name, model in models.items():\n",
    "        test_pred = model.predict(test)\n",
    "        r2_score = r2(valid, test_pred)\n",
    "        mse = mean_squared_error(valid, test_pred)\n",
    "        scores = scores.append(\n",
    "            {'name': name, 'r2': r2_score, 'mse': mse}, ignore_index=True)\n",
    "    scores.sort_values('r2', ascending=False, inplace=True)\n",
    "    return scores"
   ]
  },
  {
   "cell_type": "code",
   "execution_count": null,
   "metadata": {},
   "outputs": [],
   "source": [
    "models_score_test = models_r2(models, X_valid, y_valid)\n",
    "models_score_train = models_r2(models, X_train, y_train)"
   ]
  },
  {
   "cell_type": "code",
   "execution_count": null,
   "metadata": {},
   "outputs": [],
   "source": [
    "models_score_test[['name', 'r2']]"
   ]
  },
  {
   "cell_type": "code",
   "execution_count": null,
   "metadata": {},
   "outputs": [],
   "source": [
    "best_model = models['LGBMRegressor']"
   ]
  },
  {
   "cell_type": "code",
   "execution_count": null,
   "metadata": {},
   "outputs": [],
   "source": [
    "pd.DataFrame({'name': list(X_train.columns),\n",
    "              'importances': list(best_model.feature_importances_)})"
   ]
  },
  {
   "cell_type": "markdown",
   "metadata": {
    "id": "410Dt-fCf0M0",
    "papermill": {
     "duration": 0.093652,
     "end_time": "2020-12-23T14:56:15.407904",
     "exception": false,
     "start_time": "2020-12-23T14:56:15.314252",
     "status": "completed"
    },
    "tags": []
   },
   "source": [
    "### 8. Прогнозирование на тестовом датасете  <a class='anchor' id='prediction'>"
   ]
  },
  {
   "cell_type": "code",
   "execution_count": null,
   "metadata": {
    "colab": {
     "base_uri": "https://localhost:8080/"
    },
    "execution": {
     "iopub.execute_input": "2020-12-23T14:56:15.601495Z",
     "iopub.status.busy": "2020-12-23T14:56:15.600777Z",
     "iopub.status.idle": "2020-12-23T14:56:15.604304Z",
     "shell.execute_reply": "2020-12-23T14:56:15.604813Z"
    },
    "id": "5a48KH3Qf0M1",
    "outputId": "84c3a9cd-2c6a-4627-f3cb-52ee33d6090b",
    "papermill": {
     "duration": 0.103597,
     "end_time": "2020-12-23T14:56:15.604979",
     "exception": false,
     "start_time": "2020-12-23T14:56:15.501382",
     "status": "completed"
    },
    "tags": []
   },
   "outputs": [],
   "source": [
    "test_df.shape"
   ]
  },
  {
   "cell_type": "code",
   "execution_count": null,
   "metadata": {
    "colab": {
     "base_uri": "https://localhost:8080/",
     "height": 206
    },
    "execution": {
     "iopub.execute_input": "2020-12-23T14:56:15.803229Z",
     "iopub.status.busy": "2020-12-23T14:56:15.802530Z",
     "iopub.status.idle": "2020-12-23T14:56:15.822711Z",
     "shell.execute_reply": "2020-12-23T14:56:15.822136Z"
    },
    "id": "SVAfTV6Rf0M1",
    "outputId": "f59aa9b3-6afa-4339-ef0c-4837deaeba95",
    "papermill": {
     "duration": 0.123261,
     "end_time": "2020-12-23T14:56:15.822829",
     "exception": false,
     "start_time": "2020-12-23T14:56:15.699568",
     "status": "completed"
    },
    "tags": []
   },
   "outputs": [],
   "source": [
    "submit = pd.read_csv('sample_submission.csv')\n",
    "submit.head()"
   ]
  },
  {
   "cell_type": "code",
   "execution_count": null,
   "metadata": {
    "colab": {
     "base_uri": "https://localhost:8080/"
    },
    "execution": {
     "iopub.execute_input": "2020-12-23T14:56:16.021553Z",
     "iopub.status.busy": "2020-12-23T14:56:16.020732Z",
     "iopub.status.idle": "2020-12-23T14:56:16.154962Z",
     "shell.execute_reply": "2020-12-23T14:56:16.154350Z"
    },
    "id": "udhUELc2f0M1",
    "outputId": "3179d843-9603-4b54-9640-0c0b06b921a2",
    "papermill": {
     "duration": 0.236316,
     "end_time": "2020-12-23T14:56:16.155076",
     "exception": false,
     "start_time": "2020-12-23T14:56:15.918760",
     "status": "completed"
    },
    "tags": []
   },
   "outputs": [],
   "source": [
    "predictions = cbr_model.predict(test_df)\n",
    "predictions"
   ]
  },
  {
   "cell_type": "code",
   "execution_count": null,
   "metadata": {
    "colab": {
     "base_uri": "https://localhost:8080/",
     "height": 206
    },
    "execution": {
     "iopub.execute_input": "2020-12-23T14:56:16.361499Z",
     "iopub.status.busy": "2020-12-23T14:56:16.360458Z",
     "iopub.status.idle": "2020-12-23T14:56:16.370608Z",
     "shell.execute_reply": "2020-12-23T14:56:16.371116Z"
    },
    "id": "Zlwo5qFpf0M2",
    "outputId": "a7325f57-b183-4bf2-80da-524732102744",
    "papermill": {
     "duration": 0.119481,
     "end_time": "2020-12-23T14:56:16.371271",
     "exception": false,
     "start_time": "2020-12-23T14:56:16.251790",
     "status": "completed"
    },
    "tags": []
   },
   "outputs": [],
   "source": [
    "submit['Price'] = predictions\n",
    "submit.head()"
   ]
  },
  {
   "cell_type": "code",
   "execution_count": null,
   "metadata": {
    "colab": {
     "base_uri": "https://localhost:8080/",
     "height": 270
    },
    "id": "JTMZPY2o0ufR",
    "outputId": "ada4867d-19a3-48c1-bb5e-543cfcfa44bf"
   },
   "outputs": [],
   "source": [
    "test_df.head()"
   ]
  },
  {
   "cell_type": "code",
   "execution_count": null,
   "metadata": {
    "execution": {
     "iopub.execute_input": "2020-12-23T14:56:16.569969Z",
     "iopub.status.busy": "2020-12-23T14:56:16.569311Z",
     "iopub.status.idle": "2020-12-23T14:56:16.886391Z",
     "shell.execute_reply": "2020-12-23T14:56:16.885663Z"
    },
    "id": "SIll6pmKf0M2",
    "papermill": {
     "duration": 0.418304,
     "end_time": "2020-12-23T14:56:16.886562",
     "exception": false,
     "start_time": "2020-12-23T14:56:16.468258",
     "status": "completed"
    },
    "tags": []
   },
   "outputs": [],
   "source": [
    "submit.to_csv('predictions.csv', index=False)"
   ]
  }
 ],
 "metadata": {
  "colab": {
   "collapsed_sections": [],
   "name": "baseline.ipynb",
   "provenance": [],
   "toc_visible": true
  },
  "kernelspec": {
   "display_name": "Python 3",
   "language": "python",
   "name": "python3"
  },
  "language_info": {
   "codemirror_mode": {
    "name": "ipython",
    "version": 3
   },
   "file_extension": ".py",
   "mimetype": "text/x-python",
   "name": "python",
   "nbconvert_exporter": "python",
   "pygments_lexer": "ipython3",
   "version": "3.8.3"
  },
  "papermill": {
   "duration": 43.480282,
   "end_time": "2020-12-23T14:56:17.112701",
   "environment_variables": {},
   "exception": null,
   "input_path": "__notebook__.ipynb",
   "output_path": "__notebook__.ipynb",
   "parameters": {},
   "start_time": "2020-12-23T14:55:33.632419",
   "version": "2.1.0"
  }
 },
 "nbformat": 4,
 "nbformat_minor": 1
}
